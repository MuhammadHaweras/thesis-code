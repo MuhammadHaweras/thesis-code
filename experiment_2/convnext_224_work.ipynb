{
  "cells": [
    {
      "cell_type": "code",
      "execution_count": 1,
      "metadata": {
        "id": "S-BzpiAbLTak"
      },
      "outputs": [],
      "source": [
        "import numpy as np\n",
        "import pandas as pd\n",
        "import seaborn as sns\n",
        "import matplotlib.pyplot as plt\n",
        "import tensorflow as tf\n",
        "import os\n",
        "import json\n",
        "import pickle"
      ]
    },
    {
      "cell_type": "code",
      "source": [
        "from google.colab import drive\n",
        "import os\n",
        "\n",
        "# Mount Google Drive\n",
        "drive.mount('/content/drive')\n",
        "\n",
        "# Define the path to the folder in your Google Drive\n",
        "folder_path = '/content/drive/My Drive/tomato_combined_balanced_dataset'\n",
        "\n",
        "# Verify the current working directory\n",
        "print(f\"Current working directory: {os.getcwd()}\")\n",
        "\n",
        "# List the contents of the folder\n",
        "print(\"Contents of the folder:\")\n",
        "for item in os.listdir(folder_path):\n",
        "    print(item)"
      ],
      "metadata": {
        "colab": {
          "base_uri": "https://localhost:8080/"
        },
        "id": "y8J6Qg7woMba",
        "outputId": "ca87e0e8-65c8-46f6-848b-af472a5c5907"
      },
      "execution_count": 2,
      "outputs": [
        {
          "output_type": "stream",
          "name": "stdout",
          "text": [
            "Mounted at /content/drive\n",
            "Current working directory: /content\n",
            "Contents of the folder:\n",
            "Yellow_Leaf_Curl_Virus\n",
            "Septoria_leaf_spot\n",
            "Mosaic_virus\n",
            "Late_blight\n",
            "Target_Spot\n",
            "Leaf_Mold\n",
            "Healthy\n",
            "Early_blight\n",
            "Bacterial_spot\n"
          ]
        }
      ]
    },
    {
      "cell_type": "code",
      "source": [
        "!cp -r \"/content/drive/My Drive/tomato_combined_balanced_dataset\" /content/\n"
      ],
      "metadata": {
        "id": "s3ym5StOoQi_"
      },
      "execution_count": 3,
      "outputs": []
    },
    {
      "cell_type": "code",
      "source": [
        "batch_size = 32\n",
        "img_height = 224\n",
        "img_width = 224\n",
        "seed = 123\n",
        "data_dir = \"/content/tomato_combined_balanced_dataset\""
      ],
      "metadata": {
        "id": "f_c-l87toRQ8"
      },
      "execution_count": 4,
      "outputs": []
    },
    {
      "cell_type": "code",
      "source": [
        "checkpoint_dir = '/content/drive/My Drive/convnext_224_checkpoints'  # Where to save checkpoints\n",
        "\n",
        "# Create checkpoint directory if it doesn't exist\n",
        "os.makedirs(checkpoint_dir, exist_ok=True)\n",
        "\n",
        "# ============== CHECK FOR PREVIOUS TRAINING ==============\n",
        "checkpoint_info_path = os.path.join(checkpoint_dir, 'training_info.json')\n",
        "history_path = os.path.join(checkpoint_dir, 'training_history.pkl')\n",
        "\n",
        "previous_history = {'loss': [], 'accuracy': [], 'val_loss': [], 'val_accuracy': []}\n",
        "\n",
        "if os.path.exists(checkpoint_info_path):\n",
        "    with open(checkpoint_info_path, 'r') as f:\n",
        "        info = json.load(f)\n",
        "        epoch = info['last_epoch']\n",
        "        print(f\"🔄 FOUND PREVIOUS TRAINING - Resuming from epoch {epoch}\")\n",
        "    if os.path.exists(history_path):\n",
        "        with open(history_path, 'rb') as f:\n",
        "            previous_history = pickle.load(f)\n",
        "            print(f\"📊 Last training metrics:\")\n",
        "            print(f\"   Train Accuracy: {previous_history['accuracy'][-1]:.4f}\")\n",
        "            print(f\"   Val Accuracy: {previous_history['val_accuracy'][-1]:.4f}\")\n",
        "else:\n",
        "    print(\"🆕 Starting fresh training\")\n"
      ],
      "metadata": {
        "colab": {
          "base_uri": "https://localhost:8080/"
        },
        "id": "aJCFQu7FoS5V",
        "outputId": "0655a8d1-dddb-4709-ea5b-089a5ee3d5e4"
      },
      "execution_count": 5,
      "outputs": [
        {
          "output_type": "stream",
          "name": "stdout",
          "text": [
            "🆕 Starting fresh training\n"
          ]
        }
      ]
    },
    {
      "cell_type": "code",
      "source": [
        "train_ds = tf.keras.utils.image_dataset_from_directory(\n",
        "    data_dir,\n",
        "    validation_split=0.2,\n",
        "    subset=\"training\",\n",
        "    seed=seed,\n",
        "    image_size=(img_height, img_width),\n",
        "    batch_size=batch_size,\n",
        ")"
      ],
      "metadata": {
        "colab": {
          "base_uri": "https://localhost:8080/"
        },
        "id": "h4vgU4yHoVUi",
        "outputId": "14785ae2-07e1-4f04-b51c-cbf82f75bc13"
      },
      "execution_count": 6,
      "outputs": [
        {
          "output_type": "stream",
          "name": "stdout",
          "text": [
            "Found 18010 files belonging to 9 classes.\n",
            "Using 14408 files for training.\n"
          ]
        }
      ]
    },
    {
      "cell_type": "code",
      "source": [
        "val_ds = tf.keras.utils.image_dataset_from_directory(\n",
        "    data_dir,\n",
        "    validation_split=0.2,\n",
        "    subset=\"validation\",\n",
        "    seed=seed,\n",
        "    image_size=(img_height, img_width),\n",
        "    batch_size=batch_size,\n",
        ")"
      ],
      "metadata": {
        "colab": {
          "base_uri": "https://localhost:8080/"
        },
        "id": "OYjHJsVtoXzZ",
        "outputId": "70a80d6b-3ab3-4d11-c30d-6c3542550bbf"
      },
      "execution_count": 7,
      "outputs": [
        {
          "output_type": "stream",
          "name": "stdout",
          "text": [
            "Found 18010 files belonging to 9 classes.\n",
            "Using 3602 files for validation.\n"
          ]
        }
      ]
    },
    {
      "cell_type": "code",
      "source": [
        "num_classes = len(train_ds.class_names)\n",
        "print(\"Classes:\", train_ds.class_names)"
      ],
      "metadata": {
        "colab": {
          "base_uri": "https://localhost:8080/"
        },
        "id": "wy_ZF7wcoZY_",
        "outputId": "639a204c-8160-4127-b867-e48cb6629ec3"
      },
      "execution_count": 8,
      "outputs": [
        {
          "output_type": "stream",
          "name": "stdout",
          "text": [
            "Classes: ['Bacterial_spot', 'Early_blight', 'Healthy', 'Late_blight', 'Leaf_Mold', 'Mosaic_virus', 'Septoria_leaf_spot', 'Target_Spot', 'Yellow_Leaf_Curl_Virus']\n"
          ]
        }
      ]
    },
    {
      "cell_type": "code",
      "source": [
        "train_ds = train_ds.prefetch(2)\n",
        "test_ds = val_ds.prefetch(2)\n",
        "\n",
        "# ✅ mixed precision\n",
        "from tensorflow.keras import mixed_precision\n",
        "mixed_precision.set_global_policy(\"mixed_float16\")"
      ],
      "metadata": {
        "id": "3bmc0cOXoa93"
      },
      "execution_count": 9,
      "outputs": []
    },
    {
      "cell_type": "code",
      "source": [
        "data_augmentation = tf.keras.Sequential([\n",
        "    tf.keras.layers.RandomFlip(\"horizontal_and_vertical\"),  # Added vertical flip\n",
        "    tf.keras.layers.RandomRotation(0.2),  # Increased from 0.1\n",
        "    tf.keras.layers.RandomZoom(0.2),  # Increased from 0.1\n",
        "    tf.keras.layers.RandomContrast(0.2),  # Increased from 0.1\n",
        "    tf.keras.layers.RandomBrightness(0.2),  # NEW\n",
        "    tf.keras.layers.RandomTranslation(0.1, 0.1),  # NEW - slight shifts\n",
        "])"
      ],
      "metadata": {
        "id": "3uyjjDODobvi"
      },
      "execution_count": 10,
      "outputs": []
    },
    {
      "cell_type": "code",
      "source": [
        "base_model = tf.keras.applications.ConvNeXtTiny(\n",
        "        include_top=False,\n",
        "        weights=\"imagenet\",\n",
        "        input_shape=(img_width, img_height, 3),\n",
        "        pooling=None  # We'll add custom pooling\n",
        "    )"
      ],
      "metadata": {
        "colab": {
          "base_uri": "https://localhost:8080/"
        },
        "id": "X8uH2o45odh9",
        "outputId": "d237e4f3-cf37-420e-9418-dcc444894a40"
      },
      "execution_count": 11,
      "outputs": [
        {
          "output_type": "stream",
          "name": "stdout",
          "text": [
            "Downloading data from https://storage.googleapis.com/tensorflow/keras-applications/convnext/convnext_tiny_notop.h5\n",
            "\u001b[1m111650432/111650432\u001b[0m \u001b[32m━━━━━━━━━━━━━━━━━━━━\u001b[0m\u001b[37m\u001b[0m \u001b[1m1s\u001b[0m 0us/step\n"
          ]
        }
      ]
    },
    {
      "cell_type": "code",
      "source": [
        "base_model.trainable = True\n",
        "\n",
        "# Optionally freeze first N layers if GPU is weak:\n",
        "for layer in base_model.layers[:100]:\n",
        "    layer.trainable = False"
      ],
      "metadata": {
        "id": "YxPeJlRdofnN"
      },
      "execution_count": 12,
      "outputs": []
    },
    {
      "cell_type": "code",
      "source": [
        "    inputs = tf.keras.Input(shape=(img_width, img_height, 3))\n",
        "\n",
        "    # Data augmentation\n",
        "    x = data_augmentation(inputs, training=True)\n",
        "\n",
        "    # Preprocessing\n",
        "    x = tf.keras.applications.convnext.preprocess_input(x)\n",
        "\n",
        "    # Base model\n",
        "    x = base_model(x, training=True)\n",
        "\n",
        "    # Custom head with more capacity\n",
        "    x = tf.keras.layers.GlobalAveragePooling2D()(x)\n",
        "    x = tf.keras.layers.BatchNormalization()(x)\n",
        "    x = tf.keras.layers.Dense(512, activation='relu')(x)  # Added layer\n",
        "    x = tf.keras.layers.Dropout(0.4)(x)  # Increased dropout\n",
        "    x = tf.keras.layers.BatchNormalization()(x)  # Added BN\n",
        "    x = tf.keras.layers.Dense(256, activation='relu')(x)  # Added layer\n",
        "    x = tf.keras.layers.Dropout(0.3)(x)\n",
        "\n",
        "    # Output layer with label smoothing\n",
        "    outputs = tf.keras.layers.Dense(num_classes, activation=\"softmax\")(x)\n",
        ""
      ],
      "metadata": {
        "id": "cA_H5DLaohYO"
      },
      "execution_count": 13,
      "outputs": []
    },
    {
      "cell_type": "code",
      "source": [
        "model = tf.keras.Model(inputs, outputs)"
      ],
      "metadata": {
        "id": "-0aWsUTLojzN"
      },
      "execution_count": 14,
      "outputs": []
    },
    {
      "cell_type": "code",
      "source": [
        "model.compile(\n",
        "    optimizer=tf.keras.optimizers.AdamW(learning_rate=1e-3, weight_decay=1e-4),\n",
        "    loss=tf.keras.losses.SparseCategoricalCrossentropy(from_logits=False),\n",
        "    metrics=[\"accuracy\"]\n",
        ")"
      ],
      "metadata": {
        "id": "uNuzhih0ol-Y"
      },
      "execution_count": 15,
      "outputs": []
    },
    {
      "cell_type": "code",
      "source": [
        "class SaveCallback(tf.keras.callbacks.Callback):\n",
        "    def __init__(self, checkpoint_dir, previous_history):\n",
        "        self.checkpoint_dir = checkpoint_dir\n",
        "        self.history = previous_history\n",
        "\n",
        "    def on_epoch_end(self, epoch, logs=None):\n",
        "        actual_epoch = epoch\n",
        "\n",
        "        # Update history\n",
        "        for key in logs:\n",
        "            if key in self.history:\n",
        "                self.history[key].append(logs[key])\n",
        "\n",
        "        # Save model\n",
        "        model_path = os.path.join(self.checkpoint_dir, f'model_epoch_{actual_epoch+1}.keras')\n",
        "        self.model.save(model_path)\n",
        "\n",
        "        # Save just weights too (smaller file)\n",
        "        weights_path = os.path.join(self.checkpoint_dir, f'weights_epoch_{actual_epoch+1}.weights.h5')\n",
        "\n",
        "        self.model.save_weights(weights_path)\n",
        "        info = {\n",
        "            'last_epoch': actual_epoch,\n",
        "            'val_accuracy': float(logs['val_accuracy']),\n",
        "            'train_accuracy': float(logs['accuracy'])\n",
        "        }\n",
        "        with open(os.path.join(self.checkpoint_dir, 'training_info.json'), 'w') as f:\n",
        "            json.dump(info, f)\n",
        "\n",
        "        # Save history\n",
        "        with open(os.path.join(self.checkpoint_dir, 'training_history.pkl'), 'wb') as f:\n",
        "            pickle.dump(self.history, f)\n",
        "\n",
        "        if actual_epoch > 3:\n",
        "            old_model = os.path.join(self.checkpoint_dir, f'model_epoch_{actual_epoch-3}.keras')\n",
        "            old_weights = os.path.join(self.checkpoint_dir, f'weights_epoch_{actual_epoch-3}.weights.h5')\n",
        "            if os.path.exists(old_model):\n",
        "                os.remove(old_model)\n",
        "            if os.path.exists(old_weights):\n",
        "                os.remove(old_weights)\n",
        "\n",
        "        print(f\"\\n💾 Checkpoint saved: Epoch {actual_epoch} - \"\n",
        "              f\"Train Acc: {logs['accuracy']:.4f}, Val Acc: {logs['val_accuracy']:.4f}\")\n"
      ],
      "metadata": {
        "id": "hfpS-84Bonco"
      },
      "execution_count": 16,
      "outputs": []
    },
    {
      "cell_type": "code",
      "source": [
        "model = tf.keras.models.load_model(\n",
        "    \"/content/drive/My Drive/convnext_224_checkpoints/model_epoch_15.keras\",  # set to False if you don’t need optimizer state\n",
        ")"
      ],
      "metadata": {
        "id": "OmTlMU5Rooy7"
      },
      "execution_count": 17,
      "outputs": []
    },
    {
      "cell_type": "code",
      "source": [
        "history_continued = model.fit(\n",
        "        train_ds,\n",
        "        validation_data=test_ds,\n",
        "        initial_epoch=15,\n",
        "        epochs=30,\n",
        "        callbacks=[SaveCallback(checkpoint_dir, previous_history)]\n",
        "    )"
      ],
      "metadata": {
        "colab": {
          "base_uri": "https://localhost:8080/"
        },
        "id": "Yo_pBw1qou8G",
        "outputId": "2a2624c3-df44-42db-a4ac-b4b4b78046d1"
      },
      "execution_count": 18,
      "outputs": [
        {
          "output_type": "stream",
          "name": "stdout",
          "text": [
            "Epoch 16/30\n",
            "\u001b[1m451/451\u001b[0m \u001b[32m━━━━━━━━━━━━━━━━━━━━\u001b[0m\u001b[37m\u001b[0m \u001b[1m0s\u001b[0m 400ms/step - accuracy: 0.9842 - loss: 0.0568\n",
            "💾 Checkpoint saved: Epoch 15 - Train Acc: 0.9819, Val Acc: 0.9845\n",
            "\u001b[1m451/451\u001b[0m \u001b[32m━━━━━━━━━━━━━━━━━━━━\u001b[0m\u001b[37m\u001b[0m \u001b[1m348s\u001b[0m 609ms/step - accuracy: 0.9842 - loss: 0.0569 - val_accuracy: 0.9845 - val_loss: 0.0654\n",
            "Epoch 17/30\n",
            "\u001b[1m451/451\u001b[0m \u001b[32m━━━━━━━━━━━━━━━━━━━━\u001b[0m\u001b[37m\u001b[0m \u001b[1m0s\u001b[0m 288ms/step - accuracy: 0.9824 - loss: 0.0623\n",
            "💾 Checkpoint saved: Epoch 16 - Train Acc: 0.9816, Val Acc: 0.9758\n",
            "\u001b[1m451/451\u001b[0m \u001b[32m━━━━━━━━━━━━━━━━━━━━\u001b[0m\u001b[37m\u001b[0m \u001b[1m203s\u001b[0m 345ms/step - accuracy: 0.9824 - loss: 0.0623 - val_accuracy: 0.9758 - val_loss: 0.1479\n",
            "Epoch 18/30\n",
            "\u001b[1m451/451\u001b[0m \u001b[32m━━━━━━━━━━━━━━━━━━━━\u001b[0m\u001b[37m\u001b[0m \u001b[1m0s\u001b[0m 290ms/step - accuracy: 0.9870 - loss: 0.0510\n",
            "💾 Checkpoint saved: Epoch 17 - Train Acc: 0.9836, Val Acc: 0.9720\n",
            "\u001b[1m451/451\u001b[0m \u001b[32m━━━━━━━━━━━━━━━━━━━━\u001b[0m\u001b[37m\u001b[0m \u001b[1m196s\u001b[0m 332ms/step - accuracy: 0.9870 - loss: 0.0510 - val_accuracy: 0.9720 - val_loss: 0.1367\n",
            "Epoch 19/30\n",
            "\u001b[1m451/451\u001b[0m \u001b[32m━━━━━━━━━━━━━━━━━━━━\u001b[0m\u001b[37m\u001b[0m \u001b[1m0s\u001b[0m 289ms/step - accuracy: 0.9824 - loss: 0.0603\n",
            "💾 Checkpoint saved: Epoch 18 - Train Acc: 0.9820, Val Acc: 0.9661\n",
            "\u001b[1m451/451\u001b[0m \u001b[32m━━━━━━━━━━━━━━━━━━━━\u001b[0m\u001b[37m\u001b[0m \u001b[1m208s\u001b[0m 347ms/step - accuracy: 0.9824 - loss: 0.0603 - val_accuracy: 0.9661 - val_loss: 0.1605\n",
            "Epoch 20/30\n",
            "\u001b[1m451/451\u001b[0m \u001b[32m━━━━━━━━━━━━━━━━━━━━\u001b[0m\u001b[37m\u001b[0m \u001b[1m0s\u001b[0m 289ms/step - accuracy: 0.9776 - loss: 0.0672\n",
            "💾 Checkpoint saved: Epoch 19 - Train Acc: 0.9803, Val Acc: 0.9378\n",
            "\u001b[1m451/451\u001b[0m \u001b[32m━━━━━━━━━━━━━━━━━━━━\u001b[0m\u001b[37m\u001b[0m \u001b[1m197s\u001b[0m 337ms/step - accuracy: 0.9776 - loss: 0.0672 - val_accuracy: 0.9378 - val_loss: 0.2793\n",
            "Epoch 21/30\n",
            "\u001b[1m451/451\u001b[0m \u001b[32m━━━━━━━━━━━━━━━━━━━━\u001b[0m\u001b[37m\u001b[0m \u001b[1m0s\u001b[0m 290ms/step - accuracy: 0.9853 - loss: 0.0520\n",
            "💾 Checkpoint saved: Epoch 20 - Train Acc: 0.9815, Val Acc: 0.9808\n",
            "\u001b[1m451/451\u001b[0m \u001b[32m━━━━━━━━━━━━━━━━━━━━\u001b[0m\u001b[37m\u001b[0m \u001b[1m159s\u001b[0m 353ms/step - accuracy: 0.9853 - loss: 0.0521 - val_accuracy: 0.9808 - val_loss: 0.0691\n",
            "Epoch 22/30\n",
            "\u001b[1m451/451\u001b[0m \u001b[32m━━━━━━━━━━━━━━━━━━━━\u001b[0m\u001b[37m\u001b[0m \u001b[1m0s\u001b[0m 289ms/step - accuracy: 0.9843 - loss: 0.0537\n",
            "💾 Checkpoint saved: Epoch 21 - Train Acc: 0.9852, Val Acc: 0.9725\n",
            "\u001b[1m451/451\u001b[0m \u001b[32m━━━━━━━━━━━━━━━━━━━━\u001b[0m\u001b[37m\u001b[0m \u001b[1m193s\u001b[0m 333ms/step - accuracy: 0.9843 - loss: 0.0537 - val_accuracy: 0.9725 - val_loss: 0.1229\n",
            "Epoch 23/30\n",
            "\u001b[1m451/451\u001b[0m \u001b[32m━━━━━━━━━━━━━━━━━━━━\u001b[0m\u001b[37m\u001b[0m \u001b[1m0s\u001b[0m 289ms/step - accuracy: 0.9844 - loss: 0.0513\n",
            "💾 Checkpoint saved: Epoch 22 - Train Acc: 0.9836, Val Acc: 0.9659\n",
            "\u001b[1m451/451\u001b[0m \u001b[32m━━━━━━━━━━━━━━━━━━━━\u001b[0m\u001b[37m\u001b[0m \u001b[1m209s\u001b[0m 349ms/step - accuracy: 0.9844 - loss: 0.0513 - val_accuracy: 0.9659 - val_loss: 0.1439\n",
            "Epoch 24/30\n",
            "\u001b[1m451/451\u001b[0m \u001b[32m━━━━━━━━━━━━━━━━━━━━\u001b[0m\u001b[37m\u001b[0m \u001b[1m0s\u001b[0m 289ms/step - accuracy: 0.9882 - loss: 0.0455\n",
            "💾 Checkpoint saved: Epoch 23 - Train Acc: 0.9858, Val Acc: 0.9364\n",
            "\u001b[1m451/451\u001b[0m \u001b[32m━━━━━━━━━━━━━━━━━━━━\u001b[0m\u001b[37m\u001b[0m \u001b[1m201s\u001b[0m 348ms/step - accuracy: 0.9882 - loss: 0.0455 - val_accuracy: 0.9364 - val_loss: 0.2332\n",
            "Epoch 25/30\n",
            "\u001b[1m451/451\u001b[0m \u001b[32m━━━━━━━━━━━━━━━━━━━━\u001b[0m\u001b[37m\u001b[0m \u001b[1m0s\u001b[0m 289ms/step - accuracy: 0.9886 - loss: 0.0405\n",
            "💾 Checkpoint saved: Epoch 24 - Train Acc: 0.9879, Val Acc: 0.9620\n",
            "\u001b[1m451/451\u001b[0m \u001b[32m━━━━━━━━━━━━━━━━━━━━\u001b[0m\u001b[37m\u001b[0m \u001b[1m202s\u001b[0m 349ms/step - accuracy: 0.9886 - loss: 0.0405 - val_accuracy: 0.9620 - val_loss: 0.1567\n",
            "Epoch 26/30\n",
            "\u001b[1m451/451\u001b[0m \u001b[32m━━━━━━━━━━━━━━━━━━━━\u001b[0m\u001b[37m\u001b[0m \u001b[1m0s\u001b[0m 289ms/step - accuracy: 0.9860 - loss: 0.0515\n",
            "💾 Checkpoint saved: Epoch 25 - Train Acc: 0.9870, Val Acc: 0.9731\n",
            "\u001b[1m451/451\u001b[0m \u001b[32m━━━━━━━━━━━━━━━━━━━━\u001b[0m\u001b[37m\u001b[0m \u001b[1m200s\u001b[0m 344ms/step - accuracy: 0.9860 - loss: 0.0515 - val_accuracy: 0.9731 - val_loss: 0.1222\n",
            "Epoch 27/30\n",
            "\u001b[1m451/451\u001b[0m \u001b[32m━━━━━━━━━━━━━━━━━━━━\u001b[0m\u001b[37m\u001b[0m \u001b[1m0s\u001b[0m 289ms/step - accuracy: 0.9882 - loss: 0.0528\n",
            "💾 Checkpoint saved: Epoch 26 - Train Acc: 0.9876, Val Acc: 0.9489\n",
            "\u001b[1m451/451\u001b[0m \u001b[32m━━━━━━━━━━━━━━━━━━━━\u001b[0m\u001b[37m\u001b[0m \u001b[1m203s\u001b[0m 347ms/step - accuracy: 0.9882 - loss: 0.0528 - val_accuracy: 0.9489 - val_loss: 0.2547\n",
            "Epoch 28/30\n",
            "\u001b[1m451/451\u001b[0m \u001b[32m━━━━━━━━━━━━━━━━━━━━\u001b[0m\u001b[37m\u001b[0m \u001b[1m0s\u001b[0m 288ms/step - accuracy: 0.9855 - loss: 0.0503\n",
            "💾 Checkpoint saved: Epoch 27 - Train Acc: 0.9856, Val Acc: 0.9695\n",
            "\u001b[1m451/451\u001b[0m \u001b[32m━━━━━━━━━━━━━━━━━━━━\u001b[0m\u001b[37m\u001b[0m \u001b[1m201s\u001b[0m 344ms/step - accuracy: 0.9855 - loss: 0.0503 - val_accuracy: 0.9695 - val_loss: 0.1266\n",
            "Epoch 29/30\n",
            "\u001b[1m451/451\u001b[0m \u001b[32m━━━━━━━━━━━━━━━━━━━━\u001b[0m\u001b[37m\u001b[0m \u001b[1m0s\u001b[0m 288ms/step - accuracy: 0.9868 - loss: 0.0451\n",
            "💾 Checkpoint saved: Epoch 28 - Train Acc: 0.9863, Val Acc: 0.9675\n",
            "\u001b[1m451/451\u001b[0m \u001b[32m━━━━━━━━━━━━━━━━━━━━\u001b[0m\u001b[37m\u001b[0m \u001b[1m199s\u001b[0m 338ms/step - accuracy: 0.9868 - loss: 0.0451 - val_accuracy: 0.9675 - val_loss: 0.1303\n",
            "Epoch 30/30\n",
            "\u001b[1m451/451\u001b[0m \u001b[32m━━━━━━━━━━━━━━━━━━━━\u001b[0m\u001b[37m\u001b[0m \u001b[1m0s\u001b[0m 289ms/step - accuracy: 0.9858 - loss: 0.0565\n",
            "💾 Checkpoint saved: Epoch 29 - Train Acc: 0.9857, Val Acc: 0.9550\n",
            "\u001b[1m451/451\u001b[0m \u001b[32m━━━━━━━━━━━━━━━━━━━━\u001b[0m\u001b[37m\u001b[0m \u001b[1m201s\u001b[0m 337ms/step - accuracy: 0.9858 - loss: 0.0565 - val_accuracy: 0.9550 - val_loss: 0.1857\n"
          ]
        }
      ]
    },
    {
      "cell_type": "code",
      "source": [
        "history_continued = model.fit(\n",
        "        train_ds,\n",
        "        validation_data=test_ds,\n",
        "        initial_epoch=30,\n",
        "        epochs=40,\n",
        "        callbacks=[SaveCallback(checkpoint_dir, previous_history)]\n",
        "    )"
      ],
      "metadata": {
        "colab": {
          "base_uri": "https://localhost:8080/"
        },
        "id": "DbqmGUwA75yc",
        "outputId": "154306f7-aa19-4ad8-9df7-d077cb730c10"
      },
      "execution_count": 20,
      "outputs": [
        {
          "output_type": "stream",
          "name": "stdout",
          "text": [
            "Epoch 31/40\n",
            "\u001b[1m451/451\u001b[0m \u001b[32m━━━━━━━━━━━━━━━━━━━━\u001b[0m\u001b[37m\u001b[0m \u001b[1m0s\u001b[0m 288ms/step - accuracy: 0.9884 - loss: 0.0399\n",
            "💾 Checkpoint saved: Epoch 30 - Train Acc: 0.9869, Val Acc: 0.8681\n",
            "\u001b[1m451/451\u001b[0m \u001b[32m━━━━━━━━━━━━━━━━━━━━\u001b[0m\u001b[37m\u001b[0m \u001b[1m163s\u001b[0m 361ms/step - accuracy: 0.9884 - loss: 0.0399 - val_accuracy: 0.8681 - val_loss: 0.6984\n",
            "Epoch 32/40\n",
            "\u001b[1m451/451\u001b[0m \u001b[32m━━━━━━━━━━━━━━━━━━━━\u001b[0m\u001b[37m\u001b[0m \u001b[1m0s\u001b[0m 288ms/step - accuracy: 0.9882 - loss: 0.0446\n",
            "💾 Checkpoint saved: Epoch 31 - Train Acc: 0.9894, Val Acc: 0.9639\n",
            "\u001b[1m451/451\u001b[0m \u001b[32m━━━━━━━━━━━━━━━━━━━━\u001b[0m\u001b[37m\u001b[0m \u001b[1m196s\u001b[0m 348ms/step - accuracy: 0.9882 - loss: 0.0446 - val_accuracy: 0.9639 - val_loss: 0.1640\n",
            "Epoch 33/40\n",
            "\u001b[1m451/451\u001b[0m \u001b[32m━━━━━━━━━━━━━━━━━━━━\u001b[0m\u001b[37m\u001b[0m \u001b[1m0s\u001b[0m 290ms/step - accuracy: 0.9910 - loss: 0.0312\n",
            "💾 Checkpoint saved: Epoch 32 - Train Acc: 0.9905, Val Acc: 0.9703\n",
            "\u001b[1m451/451\u001b[0m \u001b[32m━━━━━━━━━━━━━━━━━━━━\u001b[0m\u001b[37m\u001b[0m \u001b[1m158s\u001b[0m 350ms/step - accuracy: 0.9910 - loss: 0.0312 - val_accuracy: 0.9703 - val_loss: 0.1429\n",
            "Epoch 34/40\n",
            "\u001b[1m451/451\u001b[0m \u001b[32m━━━━━━━━━━━━━━━━━━━━\u001b[0m\u001b[37m\u001b[0m \u001b[1m0s\u001b[0m 289ms/step - accuracy: 0.9921 - loss: 0.0316\n",
            "💾 Checkpoint saved: Epoch 33 - Train Acc: 0.9919, Val Acc: 0.9797\n",
            "\u001b[1m451/451\u001b[0m \u001b[32m━━━━━━━━━━━━━━━━━━━━\u001b[0m\u001b[37m\u001b[0m \u001b[1m195s\u001b[0m 334ms/step - accuracy: 0.9921 - loss: 0.0316 - val_accuracy: 0.9797 - val_loss: 0.1044\n",
            "Epoch 35/40\n",
            "\u001b[1m451/451\u001b[0m \u001b[32m━━━━━━━━━━━━━━━━━━━━\u001b[0m\u001b[37m\u001b[0m \u001b[1m0s\u001b[0m 289ms/step - accuracy: 0.9908 - loss: 0.0359\n",
            "💾 Checkpoint saved: Epoch 34 - Train Acc: 0.9888, Val Acc: 0.9650\n",
            "\u001b[1m451/451\u001b[0m \u001b[32m━━━━━━━━━━━━━━━━━━━━\u001b[0m\u001b[37m\u001b[0m \u001b[1m201s\u001b[0m 332ms/step - accuracy: 0.9908 - loss: 0.0359 - val_accuracy: 0.9650 - val_loss: 0.1464\n",
            "Epoch 36/40\n",
            "\u001b[1m451/451\u001b[0m \u001b[32m━━━━━━━━━━━━━━━━━━━━\u001b[0m\u001b[37m\u001b[0m \u001b[1m0s\u001b[0m 288ms/step - accuracy: 0.9895 - loss: 0.0377\n",
            "💾 Checkpoint saved: Epoch 35 - Train Acc: 0.9897, Val Acc: 0.9742\n",
            "\u001b[1m451/451\u001b[0m \u001b[32m━━━━━━━━━━━━━━━━━━━━\u001b[0m\u001b[37m\u001b[0m \u001b[1m208s\u001b[0m 347ms/step - accuracy: 0.9895 - loss: 0.0377 - val_accuracy: 0.9742 - val_loss: 0.1464\n",
            "Epoch 37/40\n",
            "\u001b[1m451/451\u001b[0m \u001b[32m━━━━━━━━━━━━━━━━━━━━\u001b[0m\u001b[37m\u001b[0m \u001b[1m0s\u001b[0m 288ms/step - accuracy: 0.9881 - loss: 0.0447\n",
            "💾 Checkpoint saved: Epoch 36 - Train Acc: 0.9899, Val Acc: 0.9659\n",
            "\u001b[1m451/451\u001b[0m \u001b[32m━━━━━━━━━━━━━━━━━━━━\u001b[0m\u001b[37m\u001b[0m \u001b[1m204s\u001b[0m 352ms/step - accuracy: 0.9881 - loss: 0.0447 - val_accuracy: 0.9659 - val_loss: 0.1763\n",
            "Epoch 38/40\n",
            "\u001b[1m451/451\u001b[0m \u001b[32m━━━━━━━━━━━━━━━━━━━━\u001b[0m\u001b[37m\u001b[0m \u001b[1m0s\u001b[0m 288ms/step - accuracy: 0.9900 - loss: 0.0393\n",
            "💾 Checkpoint saved: Epoch 37 - Train Acc: 0.9893, Val Acc: 0.9772\n",
            "\u001b[1m451/451\u001b[0m \u001b[32m━━━━━━━━━━━━━━━━━━━━\u001b[0m\u001b[37m\u001b[0m \u001b[1m207s\u001b[0m 363ms/step - accuracy: 0.9900 - loss: 0.0393 - val_accuracy: 0.9772 - val_loss: 0.1364\n",
            "Epoch 39/40\n",
            "\u001b[1m451/451\u001b[0m \u001b[32m━━━━━━━━━━━━━━━━━━━━\u001b[0m\u001b[37m\u001b[0m \u001b[1m0s\u001b[0m 289ms/step - accuracy: 0.9918 - loss: 0.0290\n",
            "💾 Checkpoint saved: Epoch 38 - Train Acc: 0.9906, Val Acc: 0.9628\n",
            "\u001b[1m451/451\u001b[0m \u001b[32m━━━━━━━━━━━━━━━━━━━━\u001b[0m\u001b[37m\u001b[0m \u001b[1m202s\u001b[0m 364ms/step - accuracy: 0.9918 - loss: 0.0290 - val_accuracy: 0.9628 - val_loss: 0.2469\n",
            "Epoch 40/40\n",
            "\u001b[1m451/451\u001b[0m \u001b[32m━━━━━━━━━━━━━━━━━━━━\u001b[0m\u001b[37m\u001b[0m \u001b[1m0s\u001b[0m 289ms/step - accuracy: 0.9921 - loss: 0.0283\n",
            "💾 Checkpoint saved: Epoch 39 - Train Acc: 0.9928, Val Acc: 0.9831\n",
            "\u001b[1m451/451\u001b[0m \u001b[32m━━━━━━━━━━━━━━━━━━━━\u001b[0m\u001b[37m\u001b[0m \u001b[1m194s\u001b[0m 346ms/step - accuracy: 0.9921 - loss: 0.0283 - val_accuracy: 0.9831 - val_loss: 0.1001\n"
          ]
        }
      ]
    },
    {
      "cell_type": "code",
      "source": [
        "import tensorflow as tf\n",
        "import pickle\n",
        "import matplotlib.pyplot as plt\n",
        "import os\n",
        "\n",
        "history_path = \"/content/drive/My Drive/convnext_224_checkpoints/training_history.pkl\"\n",
        "\n",
        "\n",
        "# ---- Load history ----\n",
        "with open(history_path, \"rb\") as f:\n",
        "    history = pickle.load(f)\n",
        "\n",
        "# ---- Plot training vs validation accuracy and loss ----\n",
        "acc = history['accuracy']\n",
        "val_acc = history['val_accuracy']\n",
        "loss = history['loss']\n",
        "val_loss = history['val_loss']\n",
        "epochs = range(1, len(acc) + 1)\n",
        "\n",
        "plt.figure(figsize=(14, 5))\n",
        "\n",
        "# Accuracy\n",
        "plt.subplot(1, 2, 1)\n",
        "plt.plot(epochs, acc, \"b-\", label=\"Training Accuracy\")\n",
        "plt.plot(epochs, val_acc, \"r-\", label=\"Validation Accuracy\")\n",
        "plt.title(\"Training & Validation Accuracy\")\n",
        "plt.xlabel(\"Epochs\")\n",
        "plt.ylabel(\"Accuracy\")\n",
        "plt.legend()\n",
        "\n",
        "# Loss\n",
        "plt.subplot(1, 2, 2)\n",
        "plt.plot(epochs, loss, \"b-\", label=\"Training Loss\")\n",
        "plt.plot(epochs, val_loss, \"r-\", label=\"Validation Loss\")\n",
        "plt.title(\"Training & Validation Loss\")\n",
        "plt.xlabel(\"Epochs\")\n",
        "plt.ylabel(\"Loss\")\n",
        "plt.legend()\n",
        "\n",
        "plt.show()\n"
      ],
      "metadata": {
        "colab": {
          "base_uri": "https://localhost:8080/",
          "height": 487
        },
        "id": "LsXuPfxc7tEx",
        "outputId": "1b8e9992-d7dc-429a-bd99-a2236e28116c"
      },
      "execution_count": 22,
      "outputs": [
        {
          "output_type": "display_data",
          "data": {
            "text/plain": [
              "<Figure size 1400x500 with 2 Axes>"
            ],
            "image/png": "[encoded data removed]"
          },
          "metadata": {}
        }
      ]
    }
  ],
  "metadata": {
    "accelerator": "GPU",
    "colab": {
      "gpuType": "T4",
      "provenance": []
    },
    "kernelspec": {
      "display_name": "Python 3",
      "name": "python3"
    },
    "language_info": {
      "name": "python"
    }
  },
  "nbformat": 4,
  "nbformat_minor": 0
}