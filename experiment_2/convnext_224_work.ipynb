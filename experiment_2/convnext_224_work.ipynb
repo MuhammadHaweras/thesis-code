{
  "cells": [
    {
      "cell_type": "code",
      "execution_count": null,
      "metadata": {
        "id": "S-BzpiAbLTak"
      },
      "outputs": [],
      "source": [
        "import numpy as np\n",
        "import pandas as pd\n",
        "import seaborn as sns\n",
        "import matplotlib.pyplot as plt\n",
        "import tensorflow as tf\n",
        "import os\n",
        "import json\n",
        "import pickle"
      ]
    },
    {
      "cell_type": "code",
      "source": [
        "from google.colab import drive\n",
        "import os\n",
        "\n",
        "# Mount Google Drive\n",
        "drive.mount('/content/drive')\n",
        "\n",
        "# Define the path to the folder in your Google Drive\n",
        "folder_path = '/content/drive/My Drive/tomato_combined_balanced_dataset'\n",
        "\n",
        "# Verify the current working directory\n",
        "print(f\"Current working directory: {os.getcwd()}\")\n",
        "\n",
        "# List the contents of the folder\n",
        "print(\"Contents of the folder:\")\n",
        "for item in os.listdir(folder_path):\n",
        "    print(item)"
      ],
      "metadata": {
        "colab": {
          "base_uri": "https://localhost:8080/"
        },
        "id": "y8J6Qg7woMba",
        "outputId": "16f737bd-f845-4b06-8582-c8f36afb6b59"
      },
      "execution_count": null,
      "outputs": [
        {
          "output_type": "error",
          "ename": "ValueError",
          "evalue": "mount failed",
          "traceback": [
            "\u001b[0;31m---------------------------------------------------------------------------\u001b[0m",
            "\u001b[0;31mValueError\u001b[0m                                Traceback (most recent call last)",
            "\u001b[0;32m/tmp/ipython-input-1548105376.py\u001b[0m in \u001b[0;36m<cell line: 0>\u001b[0;34m()\u001b[0m\n\u001b[1;32m      3\u001b[0m \u001b[0;34m\u001b[0m\u001b[0m\n\u001b[1;32m      4\u001b[0m \u001b[0;31m# Mount Google Drive\u001b[0m\u001b[0;34m\u001b[0m\u001b[0;34m\u001b[0m\u001b[0m\n\u001b[0;32m----> 5\u001b[0;31m \u001b[0mdrive\u001b[0m\u001b[0;34m.\u001b[0m\u001b[0mmount\u001b[0m\u001b[0;34m(\u001b[0m\u001b[0;34m'/content/drive'\u001b[0m\u001b[0;34m)\u001b[0m\u001b[0;34m\u001b[0m\u001b[0;34m\u001b[0m\u001b[0m\n\u001b[0m\u001b[1;32m      6\u001b[0m \u001b[0;34m\u001b[0m\u001b[0m\n\u001b[1;32m      7\u001b[0m \u001b[0;31m# Define the path to the folder in your Google Drive\u001b[0m\u001b[0;34m\u001b[0m\u001b[0;34m\u001b[0m\u001b[0m\n",
            "\u001b[0;32m/usr/local/lib/python3.12/dist-packages/google/colab/drive.py\u001b[0m in \u001b[0;36mmount\u001b[0;34m(mountpoint, force_remount, timeout_ms, readonly)\u001b[0m\n\u001b[1;32m     95\u001b[0m \u001b[0;32mdef\u001b[0m \u001b[0mmount\u001b[0m\u001b[0;34m(\u001b[0m\u001b[0mmountpoint\u001b[0m\u001b[0;34m,\u001b[0m \u001b[0mforce_remount\u001b[0m\u001b[0;34m=\u001b[0m\u001b[0;32mFalse\u001b[0m\u001b[0;34m,\u001b[0m \u001b[0mtimeout_ms\u001b[0m\u001b[0;34m=\u001b[0m\u001b[0;36m120000\u001b[0m\u001b[0;34m,\u001b[0m \u001b[0mreadonly\u001b[0m\u001b[0;34m=\u001b[0m\u001b[0;32mFalse\u001b[0m\u001b[0;34m)\u001b[0m\u001b[0;34m:\u001b[0m\u001b[0;34m\u001b[0m\u001b[0;34m\u001b[0m\u001b[0m\n\u001b[1;32m     96\u001b[0m   \u001b[0;34m\"\"\"Mount your Google Drive at the specified mountpoint path.\"\"\"\u001b[0m\u001b[0;34m\u001b[0m\u001b[0;34m\u001b[0m\u001b[0m\n\u001b[0;32m---> 97\u001b[0;31m   return _mount(\n\u001b[0m\u001b[1;32m     98\u001b[0m       \u001b[0mmountpoint\u001b[0m\u001b[0;34m,\u001b[0m\u001b[0;34m\u001b[0m\u001b[0;34m\u001b[0m\u001b[0m\n\u001b[1;32m     99\u001b[0m       \u001b[0mforce_remount\u001b[0m\u001b[0;34m=\u001b[0m\u001b[0mforce_remount\u001b[0m\u001b[0;34m,\u001b[0m\u001b[0;34m\u001b[0m\u001b[0;34m\u001b[0m\u001b[0m\n",
            "\u001b[0;32m/usr/local/lib/python3.12/dist-packages/google/colab/drive.py\u001b[0m in \u001b[0;36m_mount\u001b[0;34m(mountpoint, force_remount, timeout_ms, ephemeral, readonly)\u001b[0m\n\u001b[1;32m    270\u001b[0m             \u001b[0;34m'https://research.google.com/colaboratory/faq.html#drive-timeout'\u001b[0m\u001b[0;34m\u001b[0m\u001b[0;34m\u001b[0m\u001b[0m\n\u001b[1;32m    271\u001b[0m         )\n\u001b[0;32m--> 272\u001b[0;31m       \u001b[0;32mraise\u001b[0m \u001b[0mValueError\u001b[0m\u001b[0;34m(\u001b[0m\u001b[0;34m'mount failed'\u001b[0m \u001b[0;34m+\u001b[0m \u001b[0mextra_reason\u001b[0m\u001b[0;34m)\u001b[0m\u001b[0;34m\u001b[0m\u001b[0;34m\u001b[0m\u001b[0m\n\u001b[0m\u001b[1;32m    273\u001b[0m     \u001b[0;32melif\u001b[0m \u001b[0mcase\u001b[0m \u001b[0;34m==\u001b[0m \u001b[0;36m4\u001b[0m\u001b[0;34m:\u001b[0m\u001b[0;34m\u001b[0m\u001b[0;34m\u001b[0m\u001b[0m\n\u001b[1;32m    274\u001b[0m       \u001b[0;31m# Terminate the DriveFS binary before killing bash.\u001b[0m\u001b[0;34m\u001b[0m\u001b[0;34m\u001b[0m\u001b[0m\n",
            "\u001b[0;31mValueError\u001b[0m: mount failed"
          ]
        }
      ]
    },
    {
      "cell_type": "code",
      "source": [
        "!cp -r \"/content/drive/My Drive/tomato_combined_balanced_dataset\" /content/\n"
      ],
      "metadata": {
        "id": "s3ym5StOoQi_"
      },
      "execution_count": null,
      "outputs": []
    },
    {
      "cell_type": "code",
      "source": [
        "batch_size = 32\n",
        "img_height = 224\n",
        "img_width = 224\n",
        "seed = 123\n",
        "data_dir = \"/content/tomato_combined_balanced_dataset\""
      ],
      "metadata": {
        "id": "f_c-l87toRQ8"
      },
      "execution_count": null,
      "outputs": []
    },
    {
      "cell_type": "code",
      "source": [
        "checkpoint_dir = '/content/drive/My Drive/convnext_224_checkpoints'  # Where to save checkpoints\n",
        "\n",
        "# Create checkpoint directory if it doesn't exist\n",
        "os.makedirs(checkpoint_dir, exist_ok=True)\n",
        "\n",
        "# ============== CHECK FOR PREVIOUS TRAINING ==============\n",
        "checkpoint_info_path = os.path.join(checkpoint_dir, 'training_info.json')\n",
        "history_path = os.path.join(checkpoint_dir, 'training_history.pkl')\n",
        "\n",
        "previous_history = {'loss': [], 'accuracy': [], 'val_loss': [], 'val_accuracy': []}\n",
        "\n",
        "if os.path.exists(checkpoint_info_path):\n",
        "    with open(checkpoint_info_path, 'r') as f:\n",
        "        info = json.load(f)\n",
        "        epoch = info['last_epoch']\n",
        "        print(f\"🔄 FOUND PREVIOUS TRAINING - Resuming from epoch {epoch}\")\n",
        "    if os.path.exists(history_path):\n",
        "        with open(history_path, 'rb') as f:\n",
        "            previous_history = pickle.load(f)\n",
        "            print(f\"📊 Last training metrics:\")\n",
        "            print(f\"   Train Accuracy: {previous_history['accuracy'][-1]:.4f}\")\n",
        "            print(f\"   Val Accuracy: {previous_history['val_accuracy'][-1]:.4f}\")\n",
        "else:\n",
        "    print(\"🆕 Starting fresh training\")\n"
      ],
      "metadata": {
        "colab": {
          "base_uri": "https://localhost:8080/"
        },
        "id": "aJCFQu7FoS5V",
        "outputId": "e260dd07-2059-43ac-ce26-ba87b164b63a"
      },
      "execution_count": null,
      "outputs": [
        {
          "output_type": "stream",
          "name": "stdout",
          "text": [
            "🆕 Starting fresh training\n"
          ]
        }
      ]
    },
    {
      "cell_type": "code",
      "source": [
        "train_ds = tf.keras.utils.image_dataset_from_directory(\n",
        "    data_dir,\n",
        "    validation_split=0.2,\n",
        "    subset=\"training\",\n",
        "    seed=seed,\n",
        "    image_size=(img_height, img_width),\n",
        "    batch_size=batch_size,\n",
        ")"
      ],
      "metadata": {
        "colab": {
          "base_uri": "https://localhost:8080/"
        },
        "id": "h4vgU4yHoVUi",
        "outputId": "14785ae2-07e1-4f04-b51c-cbf82f75bc13"
      },
      "execution_count": null,
      "outputs": [
        {
          "output_type": "stream",
          "name": "stdout",
          "text": [
            "Found 18010 files belonging to 9 classes.\n",
            "Using 14408 files for training.\n"
          ]
        }
      ]
    },
    {
      "cell_type": "code",
      "source": [
        "val_ds = tf.keras.utils.image_dataset_from_directory(\n",
        "    data_dir,\n",
        "    validation_split=0.2,\n",
        "    subset=\"validation\",\n",
        "    seed=seed,\n",
        "    image_size=(img_height, img_width),\n",
        "    batch_size=batch_size,\n",
        ")"
      ],
      "metadata": {
        "colab": {
          "base_uri": "https://localhost:8080/"
        },
        "id": "OYjHJsVtoXzZ",
        "outputId": "70a80d6b-3ab3-4d11-c30d-6c3542550bbf"
      },
      "execution_count": null,
      "outputs": [
        {
          "output_type": "stream",
          "name": "stdout",
          "text": [
            "Found 18010 files belonging to 9 classes.\n",
            "Using 3602 files for validation.\n"
          ]
        }
      ]
    },
    {
      "cell_type": "code",
      "source": [
        "num_classes = len(train_ds.class_names)\n",
        "print(\"Classes:\", train_ds.class_names)"
      ],
      "metadata": {
        "colab": {
          "base_uri": "https://localhost:8080/"
        },
        "id": "wy_ZF7wcoZY_",
        "outputId": "639a204c-8160-4127-b867-e48cb6629ec3"
      },
      "execution_count": null,
      "outputs": [
        {
          "output_type": "stream",
          "name": "stdout",
          "text": [
            "Classes: ['Bacterial_spot', 'Early_blight', 'Healthy', 'Late_blight', 'Leaf_Mold', 'Mosaic_virus', 'Septoria_leaf_spot', 'Target_Spot', 'Yellow_Leaf_Curl_Virus']\n"
          ]
        }
      ]
    },
    {
      "cell_type": "code",
      "source": [
        "train_ds = train_ds.prefetch(2)\n",
        "test_ds = val_ds.prefetch(2)\n",
        "\n",
        "# ✅ mixed precision\n",
        "from tensorflow.keras import mixed_precision\n",
        "mixed_precision.set_global_policy(\"mixed_float16\")"
      ],
      "metadata": {
        "id": "3bmc0cOXoa93"
      },
      "execution_count": null,
      "outputs": []
    },
    {
      "cell_type": "code",
      "source": [
        "data_augmentation = tf.keras.Sequential([\n",
        "    tf.keras.layers.RandomFlip(\"horizontal_and_vertical\"),  # Added vertical flip\n",
        "    tf.keras.layers.RandomRotation(0.2),  # Increased from 0.1\n",
        "    tf.keras.layers.RandomZoom(0.2),  # Increased from 0.1\n",
        "    tf.keras.layers.RandomContrast(0.2),  # Increased from 0.1\n",
        "    tf.keras.layers.RandomBrightness(0.2),  # NEW\n",
        "    tf.keras.layers.RandomTranslation(0.1, 0.1),  # NEW - slight shifts\n",
        "])"
      ],
      "metadata": {
        "id": "3uyjjDODobvi"
      },
      "execution_count": null,
      "outputs": []
    },
    {
      "cell_type": "code",
      "source": [
        "base_model = tf.keras.applications.ConvNeXtTiny(\n",
        "        include_top=False,\n",
        "        weights=\"imagenet\",\n",
        "        input_shape=(img_width, img_height, 3),\n",
        "        pooling=None  # We'll add custom pooling\n",
        "    )"
      ],
      "metadata": {
        "colab": {
          "base_uri": "https://localhost:8080/"
        },
        "id": "X8uH2o45odh9",
        "outputId": "d237e4f3-cf37-420e-9418-dcc444894a40"
      },
      "execution_count": null,
      "outputs": [
        {
          "output_type": "stream",
          "name": "stdout",
          "text": [
            "Downloading data from https://storage.googleapis.com/tensorflow/keras-applications/convnext/convnext_tiny_notop.h5\n",
            "\u001b[1m111650432/111650432\u001b[0m \u001b[32m━━━━━━━━━━━━━━━━━━━━\u001b[0m\u001b[37m\u001b[0m \u001b[1m1s\u001b[0m 0us/step\n"
          ]
        }
      ]
    },
    {
      "cell_type": "code",
      "source": [
        "base_model.trainable = True\n",
        "\n",
        "# Optionally freeze first N layers if GPU is weak:\n",
        "for layer in base_model.layers[:100]:\n",
        "    layer.trainable = False"
      ],
      "metadata": {
        "id": "YxPeJlRdofnN"
      },
      "execution_count": null,
      "outputs": []
    },
    {
      "cell_type": "code",
      "source": [
        "    inputs = tf.keras.Input(shape=(img_width, img_height, 3))\n",
        "\n",
        "    # Data augmentation\n",
        "    x = data_augmentation(inputs, training=True)\n",
        "\n",
        "    # Preprocessing\n",
        "    x = tf.keras.applications.convnext.preprocess_input(x)\n",
        "\n",
        "    # Base model\n",
        "    x = base_model(x, training=True)\n",
        "\n",
        "    # Custom head with more capacity\n",
        "    x = tf.keras.layers.GlobalAveragePooling2D()(x)\n",
        "    x = tf.keras.layers.BatchNormalization()(x)\n",
        "    x = tf.keras.layers.Dense(512, activation='relu')(x)  # Added layer\n",
        "    x = tf.keras.layers.Dropout(0.4)(x)  # Increased dropout\n",
        "    x = tf.keras.layers.BatchNormalization()(x)  # Added BN\n",
        "    x = tf.keras.layers.Dense(256, activation='relu')(x)  # Added layer\n",
        "    x = tf.keras.layers.Dropout(0.3)(x)\n",
        "\n",
        "    # Output layer with label smoothing\n",
        "    outputs = tf.keras.layers.Dense(num_classes, activation=\"softmax\")(x)\n"
      ],
      "metadata": {
        "id": "cA_H5DLaohYO"
      },
      "execution_count": null,
      "outputs": []
    },
    {
      "cell_type": "code",
      "source": [
        "model = tf.keras.Model(inputs, outputs)"
      ],
      "metadata": {
        "id": "-0aWsUTLojzN"
      },
      "execution_count": null,
      "outputs": []
    },
    {
      "cell_type": "code",
      "source": [
        "model.compile(\n",
        "    optimizer=tf.keras.optimizers.AdamW(learning_rate=1e-3, weight_decay=1e-4),\n",
        "    loss=tf.keras.losses.SparseCategoricalCrossentropy(from_logits=False),\n",
        "    metrics=[\"accuracy\"]\n",
        ")"
      ],
      "metadata": {
        "id": "uNuzhih0ol-Y"
      },
      "execution_count": null,
      "outputs": []
    },
    {
      "cell_type": "code",
      "source": [
        "class SaveCallback(tf.keras.callbacks.Callback):\n",
        "    def __init__(self, checkpoint_dir, previous_history):\n",
        "        self.checkpoint_dir = checkpoint_dir\n",
        "        self.history = previous_history\n",
        "\n",
        "    def on_epoch_end(self, epoch, logs=None):\n",
        "        actual_epoch = epoch\n",
        "\n",
        "        # Update history\n",
        "        for key in logs:\n",
        "            if key in self.history:\n",
        "                self.history[key].append(logs[key])\n",
        "\n",
        "        # Save model\n",
        "        model_path = os.path.join(self.checkpoint_dir, f'model_epoch_{actual_epoch+1}.keras')\n",
        "        self.model.save(model_path)\n",
        "\n",
        "        # Save just weights too (smaller file)\n",
        "        weights_path = os.path.join(self.checkpoint_dir, f'weights_epoch_{actual_epoch+1}.weights.h5')\n",
        "\n",
        "        self.model.save_weights(weights_path)\n",
        "        info = {\n",
        "            'last_epoch': actual_epoch,\n",
        "            'val_accuracy': float(logs['val_accuracy']),\n",
        "            'train_accuracy': float(logs['accuracy'])\n",
        "        }\n",
        "        with open(os.path.join(self.checkpoint_dir, 'training_info.json'), 'w') as f:\n",
        "            json.dump(info, f)\n",
        "\n",
        "        # Save history\n",
        "        with open(os.path.join(self.checkpoint_dir, 'training_history.pkl'), 'wb') as f:\n",
        "            pickle.dump(self.history, f)\n",
        "\n",
        "        if actual_epoch > 3:\n",
        "            old_model = os.path.join(self.checkpoint_dir, f'model_epoch_{actual_epoch-3}.keras')\n",
        "            old_weights = os.path.join(self.checkpoint_dir, f'weights_epoch_{actual_epoch-3}.weights.h5')\n",
        "            if os.path.exists(old_model):\n",
        "                os.remove(old_model)\n",
        "            if os.path.exists(old_weights):\n",
        "                os.remove(old_weights)\n",
        "\n",
        "        print(f\"\\n💾 Checkpoint saved: Epoch {actual_epoch+1} - \"\n",
        "              f\"Train Acc: {logs['accuracy']:.4f}, Val Acc: {logs['val_accuracy']:.4f}\")\n"
      ],
      "metadata": {
        "id": "hfpS-84Bonco"
      },
      "execution_count": null,
      "outputs": []
    },
    {
      "cell_type": "code",
      "source": [
        "model = tf.keras.models.load_model(\n",
        "    \"/content/drive/My Drive/convnext_224_checkpoints/model_epoch_15.keras\",  # set to False if you don’t need optimizer state\n",
        ")"
      ],
      "metadata": {
        "id": "OmTlMU5Rooy7"
      },
      "execution_count": null,
      "outputs": []
    },
    {
      "cell_type": "code",
      "source": [
        "history_continued = model.fit(\n",
        "        train_ds,\n",
        "        validation_data=test_ds,\n",
        "        initial_epoch=15,\n",
        "        epochs=30,\n",
        "        callbacks=[SaveCallback(checkpoint_dir, previous_history)]\n",
        "    )"
      ],
      "metadata": {
        "colab": {
          "base_uri": "https://localhost:8080/"
        },
        "id": "Yo_pBw1qou8G",
        "outputId": "2a2624c3-df44-42db-a4ac-b4b4b78046d1"
      },
      "execution_count": null,
      "outputs": [
        {
          "output_type": "stream",
          "name": "stdout",
          "text": [
            "Epoch 16/30\n",
            "\u001b[1m451/451\u001b[0m \u001b[32m━━━━━━━━━━━━━━━━━━━━\u001b[0m\u001b[37m\u001b[0m \u001b[1m0s\u001b[0m 400ms/step - accuracy: 0.9842 - loss: 0.0568\n",
            "💾 Checkpoint saved: Epoch 15 - Train Acc: 0.9819, Val Acc: 0.9845\n",
            "\u001b[1m451/451\u001b[0m \u001b[32m━━━━━━━━━━━━━━━━━━━━\u001b[0m\u001b[37m\u001b[0m \u001b[1m348s\u001b[0m 609ms/step - accuracy: 0.9842 - loss: 0.0569 - val_accuracy: 0.9845 - val_loss: 0.0654\n",
            "Epoch 17/30\n",
            "\u001b[1m451/451\u001b[0m \u001b[32m━━━━━━━━━━━━━━━━━━━━\u001b[0m\u001b[37m\u001b[0m \u001b[1m0s\u001b[0m 288ms/step - accuracy: 0.9824 - loss: 0.0623\n",
            "💾 Checkpoint saved: Epoch 16 - Train Acc: 0.9816, Val Acc: 0.9758\n",
            "\u001b[1m451/451\u001b[0m \u001b[32m━━━━━━━━━━━━━━━━━━━━\u001b[0m\u001b[37m\u001b[0m \u001b[1m203s\u001b[0m 345ms/step - accuracy: 0.9824 - loss: 0.0623 - val_accuracy: 0.9758 - val_loss: 0.1479\n",
            "Epoch 18/30\n",
            "\u001b[1m451/451\u001b[0m \u001b[32m━━━━━━━━━━━━━━━━━━━━\u001b[0m\u001b[37m\u001b[0m \u001b[1m0s\u001b[0m 290ms/step - accuracy: 0.9870 - loss: 0.0510\n",
            "💾 Checkpoint saved: Epoch 17 - Train Acc: 0.9836, Val Acc: 0.9720\n",
            "\u001b[1m451/451\u001b[0m \u001b[32m━━━━━━━━━━━━━━━━━━━━\u001b[0m\u001b[37m\u001b[0m \u001b[1m196s\u001b[0m 332ms/step - accuracy: 0.9870 - loss: 0.0510 - val_accuracy: 0.9720 - val_loss: 0.1367\n",
            "Epoch 19/30\n",
            "\u001b[1m451/451\u001b[0m \u001b[32m━━━━━━━━━━━━━━━━━━━━\u001b[0m\u001b[37m\u001b[0m \u001b[1m0s\u001b[0m 289ms/step - accuracy: 0.9824 - loss: 0.0603\n",
            "💾 Checkpoint saved: Epoch 18 - Train Acc: 0.9820, Val Acc: 0.9661\n",
            "\u001b[1m451/451\u001b[0m \u001b[32m━━━━━━━━━━━━━━━━━━━━\u001b[0m\u001b[37m\u001b[0m \u001b[1m208s\u001b[0m 347ms/step - accuracy: 0.9824 - loss: 0.0603 - val_accuracy: 0.9661 - val_loss: 0.1605\n",
            "Epoch 20/30\n",
            "\u001b[1m451/451\u001b[0m \u001b[32m━━━━━━━━━━━━━━━━━━━━\u001b[0m\u001b[37m\u001b[0m \u001b[1m0s\u001b[0m 289ms/step - accuracy: 0.9776 - loss: 0.0672\n",
            "💾 Checkpoint saved: Epoch 19 - Train Acc: 0.9803, Val Acc: 0.9378\n",
            "\u001b[1m451/451\u001b[0m \u001b[32m━━━━━━━━━━━━━━━━━━━━\u001b[0m\u001b[37m\u001b[0m \u001b[1m197s\u001b[0m 337ms/step - accuracy: 0.9776 - loss: 0.0672 - val_accuracy: 0.9378 - val_loss: 0.2793\n",
            "Epoch 21/30\n",
            "\u001b[1m451/451\u001b[0m \u001b[32m━━━━━━━━━━━━━━━━━━━━\u001b[0m\u001b[37m\u001b[0m \u001b[1m0s\u001b[0m 290ms/step - accuracy: 0.9853 - loss: 0.0520\n",
            "💾 Checkpoint saved: Epoch 20 - Train Acc: 0.9815, Val Acc: 0.9808\n",
            "\u001b[1m451/451\u001b[0m \u001b[32m━━━━━━━━━━━━━━━━━━━━\u001b[0m\u001b[37m\u001b[0m \u001b[1m159s\u001b[0m 353ms/step - accuracy: 0.9853 - loss: 0.0521 - val_accuracy: 0.9808 - val_loss: 0.0691\n",
            "Epoch 22/30\n",
            "\u001b[1m451/451\u001b[0m \u001b[32m━━━━━━━━━━━━━━━━━━━━\u001b[0m\u001b[37m\u001b[0m \u001b[1m0s\u001b[0m 289ms/step - accuracy: 0.9843 - loss: 0.0537\n",
            "💾 Checkpoint saved: Epoch 21 - Train Acc: 0.9852, Val Acc: 0.9725\n",
            "\u001b[1m451/451\u001b[0m \u001b[32m━━━━━━━━━━━━━━━━━━━━\u001b[0m\u001b[37m\u001b[0m \u001b[1m193s\u001b[0m 333ms/step - accuracy: 0.9843 - loss: 0.0537 - val_accuracy: 0.9725 - val_loss: 0.1229\n",
            "Epoch 23/30\n",
            "\u001b[1m451/451\u001b[0m \u001b[32m━━━━━━━━━━━━━━━━━━━━\u001b[0m\u001b[37m\u001b[0m \u001b[1m0s\u001b[0m 289ms/step - accuracy: 0.9844 - loss: 0.0513\n",
            "💾 Checkpoint saved: Epoch 22 - Train Acc: 0.9836, Val Acc: 0.9659\n",
            "\u001b[1m451/451\u001b[0m \u001b[32m━━━━━━━━━━━━━━━━━━━━\u001b[0m\u001b[37m\u001b[0m \u001b[1m209s\u001b[0m 349ms/step - accuracy: 0.9844 - loss: 0.0513 - val_accuracy: 0.9659 - val_loss: 0.1439\n",
            "Epoch 24/30\n",
            "\u001b[1m451/451\u001b[0m \u001b[32m━━━━━━━━━━━━━━━━━━━━\u001b[0m\u001b[37m\u001b[0m \u001b[1m0s\u001b[0m 289ms/step - accuracy: 0.9882 - loss: 0.0455\n",
            "💾 Checkpoint saved: Epoch 23 - Train Acc: 0.9858, Val Acc: 0.9364\n",
            "\u001b[1m451/451\u001b[0m \u001b[32m━━━━━━━━━━━━━━━━━━━━\u001b[0m\u001b[37m\u001b[0m \u001b[1m201s\u001b[0m 348ms/step - accuracy: 0.9882 - loss: 0.0455 - val_accuracy: 0.9364 - val_loss: 0.2332\n",
            "Epoch 25/30\n",
            "\u001b[1m451/451\u001b[0m \u001b[32m━━━━━━━━━━━━━━━━━━━━\u001b[0m\u001b[37m\u001b[0m \u001b[1m0s\u001b[0m 289ms/step - accuracy: 0.9886 - loss: 0.0405\n",
            "💾 Checkpoint saved: Epoch 24 - Train Acc: 0.9879, Val Acc: 0.9620\n",
            "\u001b[1m451/451\u001b[0m \u001b[32m━━━━━━━━━━━━━━━━━━━━\u001b[0m\u001b[37m\u001b[0m \u001b[1m202s\u001b[0m 349ms/step - accuracy: 0.9886 - loss: 0.0405 - val_accuracy: 0.9620 - val_loss: 0.1567\n",
            "Epoch 26/30\n",
            "\u001b[1m451/451\u001b[0m \u001b[32m━━━━━━━━━━━━━━━━━━━━\u001b[0m\u001b[37m\u001b[0m \u001b[1m0s\u001b[0m 289ms/step - accuracy: 0.9860 - loss: 0.0515\n",
            "💾 Checkpoint saved: Epoch 25 - Train Acc: 0.9870, Val Acc: 0.9731\n",
            "\u001b[1m451/451\u001b[0m \u001b[32m━━━━━━━━━━━━━━━━━━━━\u001b[0m\u001b[37m\u001b[0m \u001b[1m200s\u001b[0m 344ms/step - accuracy: 0.9860 - loss: 0.0515 - val_accuracy: 0.9731 - val_loss: 0.1222\n",
            "Epoch 27/30\n",
            "\u001b[1m451/451\u001b[0m \u001b[32m━━━━━━━━━━━━━━━━━━━━\u001b[0m\u001b[37m\u001b[0m \u001b[1m0s\u001b[0m 289ms/step - accuracy: 0.9882 - loss: 0.0528\n",
            "💾 Checkpoint saved: Epoch 26 - Train Acc: 0.9876, Val Acc: 0.9489\n",
            "\u001b[1m451/451\u001b[0m \u001b[32m━━━━━━━━━━━━━━━━━━━━\u001b[0m\u001b[37m\u001b[0m \u001b[1m203s\u001b[0m 347ms/step - accuracy: 0.9882 - loss: 0.0528 - val_accuracy: 0.9489 - val_loss: 0.2547\n",
            "Epoch 28/30\n",
            "\u001b[1m451/451\u001b[0m \u001b[32m━━━━━━━━━━━━━━━━━━━━\u001b[0m\u001b[37m\u001b[0m \u001b[1m0s\u001b[0m 288ms/step - accuracy: 0.9855 - loss: 0.0503\n",
            "💾 Checkpoint saved: Epoch 27 - Train Acc: 0.9856, Val Acc: 0.9695\n",
            "\u001b[1m451/451\u001b[0m \u001b[32m━━━━━━━━━━━━━━━━━━━━\u001b[0m\u001b[37m\u001b[0m \u001b[1m201s\u001b[0m 344ms/step - accuracy: 0.9855 - loss: 0.0503 - val_accuracy: 0.9695 - val_loss: 0.1266\n",
            "Epoch 29/30\n",
            "\u001b[1m451/451\u001b[0m \u001b[32m━━━━━━━━━━━━━━━━━━━━\u001b[0m\u001b[37m\u001b[0m \u001b[1m0s\u001b[0m 288ms/step - accuracy: 0.9868 - loss: 0.0451\n",
            "💾 Checkpoint saved: Epoch 28 - Train Acc: 0.9863, Val Acc: 0.9675\n",
            "\u001b[1m451/451\u001b[0m \u001b[32m━━━━━━━━━━━━━━━━━━━━\u001b[0m\u001b[37m\u001b[0m \u001b[1m199s\u001b[0m 338ms/step - accuracy: 0.9868 - loss: 0.0451 - val_accuracy: 0.9675 - val_loss: 0.1303\n",
            "Epoch 30/30\n",
            "\u001b[1m451/451\u001b[0m \u001b[32m━━━━━━━━━━━━━━━━━━━━\u001b[0m\u001b[37m\u001b[0m \u001b[1m0s\u001b[0m 289ms/step - accuracy: 0.9858 - loss: 0.0565\n",
            "💾 Checkpoint saved: Epoch 29 - Train Acc: 0.9857, Val Acc: 0.9550\n",
            "\u001b[1m451/451\u001b[0m \u001b[32m━━━━━━━━━━━━━━━━━━━━\u001b[0m\u001b[37m\u001b[0m \u001b[1m201s\u001b[0m 337ms/step - accuracy: 0.9858 - loss: 0.0565 - val_accuracy: 0.9550 - val_loss: 0.1857\n"
          ]
        }
      ]
    },
    {
      "cell_type": "code",
      "source": [
        "history_continued = model.fit(\n",
        "        train_ds,\n",
        "        validation_data=test_ds,\n",
        "        initial_epoch=30,\n",
        "        epochs=40,\n",
        "        callbacks=[SaveCallback(checkpoint_dir, previous_history)]\n",
        "    )"
      ],
      "metadata": {
        "colab": {
          "base_uri": "https://localhost:8080/"
        },
        "id": "DbqmGUwA75yc",
        "outputId": "154306f7-aa19-4ad8-9df7-d077cb730c10"
      },
      "execution_count": null,
      "outputs": [
        {
          "output_type": "stream",
          "name": "stdout",
          "text": [
            "Epoch 31/40\n",
            "\u001b[1m451/451\u001b[0m \u001b[32m━━━━━━━━━━━━━━━━━━━━\u001b[0m\u001b[37m\u001b[0m \u001b[1m0s\u001b[0m 288ms/step - accuracy: 0.9884 - loss: 0.0399\n",
            "💾 Checkpoint saved: Epoch 30 - Train Acc: 0.9869, Val Acc: 0.8681\n",
            "\u001b[1m451/451\u001b[0m \u001b[32m━━━━━━━━━━━━━━━━━━━━\u001b[0m\u001b[37m\u001b[0m \u001b[1m163s\u001b[0m 361ms/step - accuracy: 0.9884 - loss: 0.0399 - val_accuracy: 0.8681 - val_loss: 0.6984\n",
            "Epoch 32/40\n",
            "\u001b[1m451/451\u001b[0m \u001b[32m━━━━━━━━━━━━━━━━━━━━\u001b[0m\u001b[37m\u001b[0m \u001b[1m0s\u001b[0m 288ms/step - accuracy: 0.9882 - loss: 0.0446\n",
            "💾 Checkpoint saved: Epoch 31 - Train Acc: 0.9894, Val Acc: 0.9639\n",
            "\u001b[1m451/451\u001b[0m \u001b[32m━━━━━━━━━━━━━━━━━━━━\u001b[0m\u001b[37m\u001b[0m \u001b[1m196s\u001b[0m 348ms/step - accuracy: 0.9882 - loss: 0.0446 - val_accuracy: 0.9639 - val_loss: 0.1640\n",
            "Epoch 33/40\n",
            "\u001b[1m451/451\u001b[0m \u001b[32m━━━━━━━━━━━━━━━━━━━━\u001b[0m\u001b[37m\u001b[0m \u001b[1m0s\u001b[0m 290ms/step - accuracy: 0.9910 - loss: 0.0312\n",
            "💾 Checkpoint saved: Epoch 32 - Train Acc: 0.9905, Val Acc: 0.9703\n",
            "\u001b[1m451/451\u001b[0m \u001b[32m━━━━━━━━━━━━━━━━━━━━\u001b[0m\u001b[37m\u001b[0m \u001b[1m158s\u001b[0m 350ms/step - accuracy: 0.9910 - loss: 0.0312 - val_accuracy: 0.9703 - val_loss: 0.1429\n",
            "Epoch 34/40\n",
            "\u001b[1m451/451\u001b[0m \u001b[32m━━━━━━━━━━━━━━━━━━━━\u001b[0m\u001b[37m\u001b[0m \u001b[1m0s\u001b[0m 289ms/step - accuracy: 0.9921 - loss: 0.0316\n",
            "💾 Checkpoint saved: Epoch 33 - Train Acc: 0.9919, Val Acc: 0.9797\n",
            "\u001b[1m451/451\u001b[0m \u001b[32m━━━━━━━━━━━━━━━━━━━━\u001b[0m\u001b[37m\u001b[0m \u001b[1m195s\u001b[0m 334ms/step - accuracy: 0.9921 - loss: 0.0316 - val_accuracy: 0.9797 - val_loss: 0.1044\n",
            "Epoch 35/40\n",
            "\u001b[1m451/451\u001b[0m \u001b[32m━━━━━━━━━━━━━━━━━━━━\u001b[0m\u001b[37m\u001b[0m \u001b[1m0s\u001b[0m 289ms/step - accuracy: 0.9908 - loss: 0.0359\n",
            "💾 Checkpoint saved: Epoch 34 - Train Acc: 0.9888, Val Acc: 0.9650\n",
            "\u001b[1m451/451\u001b[0m \u001b[32m━━━━━━━━━━━━━━━━━━━━\u001b[0m\u001b[37m\u001b[0m \u001b[1m201s\u001b[0m 332ms/step - accuracy: 0.9908 - loss: 0.0359 - val_accuracy: 0.9650 - val_loss: 0.1464\n",
            "Epoch 36/40\n",
            "\u001b[1m451/451\u001b[0m \u001b[32m━━━━━━━━━━━━━━━━━━━━\u001b[0m\u001b[37m\u001b[0m \u001b[1m0s\u001b[0m 288ms/step - accuracy: 0.9895 - loss: 0.0377\n",
            "💾 Checkpoint saved: Epoch 35 - Train Acc: 0.9897, Val Acc: 0.9742\n",
            "\u001b[1m451/451\u001b[0m \u001b[32m━━━━━━━━━━━━━━━━━━━━\u001b[0m\u001b[37m\u001b[0m \u001b[1m208s\u001b[0m 347ms/step - accuracy: 0.9895 - loss: 0.0377 - val_accuracy: 0.9742 - val_loss: 0.1464\n",
            "Epoch 37/40\n",
            "\u001b[1m451/451\u001b[0m \u001b[32m━━━━━━━━━━━━━━━━━━━━\u001b[0m\u001b[37m\u001b[0m \u001b[1m0s\u001b[0m 288ms/step - accuracy: 0.9881 - loss: 0.0447\n",
            "💾 Checkpoint saved: Epoch 36 - Train Acc: 0.9899, Val Acc: 0.9659\n",
            "\u001b[1m451/451\u001b[0m \u001b[32m━━━━━━━━━━━━━━━━━━━━\u001b[0m\u001b[37m\u001b[0m \u001b[1m204s\u001b[0m 352ms/step - accuracy: 0.9881 - loss: 0.0447 - val_accuracy: 0.9659 - val_loss: 0.1763\n",
            "Epoch 38/40\n",
            "\u001b[1m451/451\u001b[0m \u001b[32m━━━━━━━━━━━━━━━━━━━━\u001b[0m\u001b[37m\u001b[0m \u001b[1m0s\u001b[0m 288ms/step - accuracy: 0.9900 - loss: 0.0393\n",
            "💾 Checkpoint saved: Epoch 37 - Train Acc: 0.9893, Val Acc: 0.9772\n",
            "\u001b[1m451/451\u001b[0m \u001b[32m━━━━━━━━━━━━━━━━━━━━\u001b[0m\u001b[37m\u001b[0m \u001b[1m207s\u001b[0m 363ms/step - accuracy: 0.9900 - loss: 0.0393 - val_accuracy: 0.9772 - val_loss: 0.1364\n",
            "Epoch 39/40\n",
            "\u001b[1m451/451\u001b[0m \u001b[32m━━━━━━━━━━━━━━━━━━━━\u001b[0m\u001b[37m\u001b[0m \u001b[1m0s\u001b[0m 289ms/step - accuracy: 0.9918 - loss: 0.0290\n",
            "💾 Checkpoint saved: Epoch 38 - Train Acc: 0.9906, Val Acc: 0.9628\n",
            "\u001b[1m451/451\u001b[0m \u001b[32m━━━━━━━━━━━━━━━━━━━━\u001b[0m\u001b[37m\u001b[0m \u001b[1m202s\u001b[0m 364ms/step - accuracy: 0.9918 - loss: 0.0290 - val_accuracy: 0.9628 - val_loss: 0.2469\n",
            "Epoch 40/40\n",
            "\u001b[1m451/451\u001b[0m \u001b[32m━━━━━━━━━━━━━━━━━━━━\u001b[0m\u001b[37m\u001b[0m \u001b[1m0s\u001b[0m 289ms/step - accuracy: 0.9921 - loss: 0.0283\n",
            "💾 Checkpoint saved: Epoch 39 - Train Acc: 0.9928, Val Acc: 0.9831\n",
            "\u001b[1m451/451\u001b[0m \u001b[32m━━━━━━━━━━━━━━━━━━━━\u001b[0m\u001b[37m\u001b[0m \u001b[1m194s\u001b[0m 346ms/step - accuracy: 0.9921 - loss: 0.0283 - val_accuracy: 0.9831 - val_loss: 0.1001\n"
          ]
        }
      ]
    },
    {
      "cell_type": "code",
      "source": [
        "import tensorflow as tf\n",
        "import pickle\n",
        "import matplotlib.pyplot as plt\n",
        "import os\n",
        "\n",
        "history_path = \"/content/drive/My Drive/convnext_224_checkpoints/training_history.pkl\"\n",
        "\n",
        "\n",
        "# ---- Load history ----\n",
        "with open(history_path, \"rb\") as f:\n",
        "    history = pickle.load(f)\n",
        "\n",
        "# ---- Plot training vs validation accuracy and loss ----\n",
        "acc = history['accuracy']\n",
        "val_acc = history['val_accuracy']\n",
        "loss = history['loss']\n",
        "val_loss = history['val_loss']\n",
        "epochs = range(1, len(acc) + 1)\n",
        "\n",
        "plt.figure(figsize=(14, 5))\n",
        "\n",
        "# Accuracy\n",
        "plt.subplot(1, 2, 1)\n",
        "plt.plot(epochs, acc, \"b-\", label=\"Training Accuracy\")\n",
        "plt.plot(epochs, val_acc, \"r-\", label=\"Validation Accuracy\")\n",
        "plt.title(\"Training & Validation Accuracy\")\n",
        "plt.xlabel(\"Epochs\")\n",
        "plt.ylabel(\"Accuracy\")\n",
        "plt.legend()\n",
        "\n",
        "# Loss\n",
        "plt.subplot(1, 2, 2)\n",
        "plt.plot(epochs, loss, \"b-\", label=\"Training Loss\")\n",
        "plt.plot(epochs, val_loss, \"r-\", label=\"Validation Loss\")\n",
        "plt.title(\"Training & Validation Loss\")\n",
        "plt.xlabel(\"Epochs\")\n",
        "plt.ylabel(\"Loss\")\n",
        "plt.legend()\n",
        "\n",
        "plt.show()\n"
      ],
      "metadata": {
        "colab": {
          "base_uri": "https://localhost:8080/",
          "height": 487
        },
        "id": "LsXuPfxc7tEx",
        "outputId": "1b8e9992-d7dc-429a-bd99-a2236e28116c"
      },
      "execution_count": null,
      "outputs": [
        {
          "output_type": "display_data",
          "data": {
            "text/plain": [
              "<Figure size 1400x500 with 2 Axes>"
            ],
            "image/png": "[encoded data removed]"
          },
          "metadata": {}
        }
      ]
    },
    {
      "cell_type": "markdown",
      "source": [
        "# Preventing Overfitting"
      ],
      "metadata": {
        "id": "dCOeW8CnIcUy"
      }
    },
    {
      "cell_type": "code",
      "source": [
        "# Data loading\n",
        "train_ds = tf.keras.utils.image_dataset_from_directory(\n",
        "    data_dir,\n",
        "    validation_split=0.2,\n",
        "    subset=\"training\",\n",
        "    seed=seed,\n",
        "    image_size=(img_height, img_width),\n",
        "    batch_size=batch_size,\n",
        ")\n",
        "\n",
        "val_ds = tf.keras.utils.image_dataset_from_directory(\n",
        "    data_dir,\n",
        "    validation_split=0.2,\n",
        "    subset=\"validation\",\n",
        "    seed=seed,\n",
        "    image_size=(img_height, img_width),\n",
        "    batch_size=batch_size,\n",
        ")\n",
        "\n",
        "num_classes = len(train_ds.class_names)\n",
        "\n",
        "# Optimize without cache\n",
        "AUTOTUNE = tf.data.AUTOTUNE\n",
        "train_ds = train_ds.prefetch(AUTOTUNE)  # No cache()\n",
        "test_ds = val_ds.prefetch(AUTOTUNE)  # No cache()\n",
        "\n",
        "from tensorflow.keras import mixed_precision\n",
        "mixed_precision.set_global_policy(\"mixed_float16\")\n",
        "\n",
        "train_ds = train_ds.prefetch(2)\n",
        "test_ds = test_ds.prefetch(2)"
      ],
      "metadata": {
        "colab": {
          "base_uri": "https://localhost:8080/"
        },
        "id": "TohhLtYYIeAt",
        "outputId": "a6b8ce03-f48a-4d6f-f63f-af3d39ec1b54"
      },
      "execution_count": null,
      "outputs": [
        {
          "output_type": "stream",
          "name": "stdout",
          "text": [
            "Found 18010 files belonging to 9 classes.\n",
            "Using 14408 files for training.\n",
            "Found 18010 files belonging to 9 classes.\n",
            "Using 3602 files for validation.\n"
          ]
        }
      ]
    },
    {
      "cell_type": "code",
      "source": [
        "data_augmentation = tf.keras.Sequential([\n",
        "    tf.keras.layers.RandomFlip(\"horizontal_and_vertical\"),\n",
        "    tf.keras.layers.RandomRotation(0.2),\n",
        "    tf.keras.layers.RandomZoom(0.2),\n",
        "    tf.keras.layers.RandomContrast(0.2),\n",
        "    tf.keras.layers.RandomBrightness(0.2),\n",
        "    tf.keras.layers.RandomTranslation(0.1, 0.1),\n",
        "])"
      ],
      "metadata": {
        "id": "71Xg5g-jIriX"
      },
      "execution_count": null,
      "outputs": []
    },
    {
      "cell_type": "code",
      "source": [
        "base_model = tf.keras.applications.ConvNeXtTiny(\n",
        "    include_top=False,\n",
        "    weights=\"imagenet\",\n",
        "    input_shape=(img_width, img_height, 3),\n",
        "    pooling=None\n",
        ")\n",
        "\n",
        "# CHANGE: Start with frozen base\n",
        "base_model.trainable = False  # Will unfreeze later\n",
        "\n",
        "inputs = tf.keras.Input(shape=(img_width, img_height, 3))\n",
        "x = data_augmentation(inputs, training=True)\n",
        "x = tf.keras.applications.convnext.preprocess_input(x)\n",
        "x = base_model(x, training=True)\n",
        "x = tf.keras.layers.GlobalAveragePooling2D()(x)\n",
        "x = tf.keras.layers.BatchNormalization()(x)\n",
        "x = tf.keras.layers.Dense(512, activation='relu')(x)\n",
        "x = tf.keras.layers.Dropout(0.5)(x)  # CHANGE: Increased from 0.4\n",
        "x = tf.keras.layers.BatchNormalization()(x)\n",
        "x = tf.keras.layers.Dense(256, activation='relu')(x)\n",
        "x = tf.keras.layers.Dropout(0.4)(x)\n",
        "x = tf.keras.layers.BatchNormalization()(x)\n",
        "x = tf.keras.layers.Dense(128, activation='relu')(x)\n",
        "x = tf.keras.layers.Dropout(0.3)(x)  # CHANGE: Increased from 0.3\n",
        "outputs = tf.keras.layers.Dense(num_classes, activation=\"softmax\", dtype='float32')(x)\n",
        " # Added dtype for mixed precision\n",
        "\n",
        "model = tf.keras.Model(inputs, outputs)"
      ],
      "metadata": {
        "id": "1H5NbijTIwwa",
        "colab": {
          "base_uri": "https://localhost:8080/"
        },
        "outputId": "107bb7bb-c8c7-4b61-b30a-f2db99b273f2"
      },
      "execution_count": null,
      "outputs": [
        {
          "output_type": "stream",
          "name": "stdout",
          "text": [
            "Downloading data from https://storage.googleapis.com/tensorflow/keras-applications/convnext/convnext_tiny_notop.h5\n",
            "\u001b[1m111650432/111650432\u001b[0m \u001b[32m━━━━━━━━━━━━━━━━━━━━\u001b[0m\u001b[37m\u001b[0m \u001b[1m1s\u001b[0m 0us/step\n"
          ]
        }
      ]
    },
    {
      "cell_type": "code",
      "source": [
        "model.compile(\n",
        "    optimizer=tf.keras.optimizers.AdamW(learning_rate=5e-4, weight_decay=1e-4),  # Reduced LR\n",
        "    loss=tf.keras.losses.SparseCategoricalCrossentropy(\n",
        "        from_logits=False\n",
        "    ),\n",
        "    metrics=[\"accuracy\"]\n",
        ")"
      ],
      "metadata": {
        "id": "aAnVKh74I0R0"
      },
      "execution_count": null,
      "outputs": []
    },
    {
      "cell_type": "code",
      "source": [
        "callbacks = [\n",
        "    SaveCallback(checkpoint_dir, previous_history),\n",
        "    tf.keras.callbacks.ReduceLROnPlateau(\n",
        "        monitor='val_loss',\n",
        "        factor=0.5,\n",
        "        patience=3,\n",
        "        min_lr=1e-7,\n",
        "        verbose=1\n",
        "    ),\n",
        "    tf.keras.callbacks.EarlyStopping(\n",
        "        monitor='val_loss',\n",
        "        patience=10,\n",
        "        restore_best_weights=True,\n",
        "        verbose=1\n",
        "    )\n",
        "]"
      ],
      "metadata": {
        "id": "bubXx7YdJiCc"
      },
      "execution_count": null,
      "outputs": []
    },
    {
      "cell_type": "code",
      "source": [
        "print(\"Stage 1: Training with frozen base...\")\n",
        "history1 = model.fit(\n",
        "    train_ds,\n",
        "    validation_data=test_ds,\n",
        "    epochs=15,\n",
        "    callbacks=callbacks\n",
        ")"
      ],
      "metadata": {
        "colab": {
          "base_uri": "https://localhost:8080/"
        },
        "id": "kakyvIugJnF2",
        "outputId": "d92ab283-8021-41fb-dde7-81434c213c3e"
      },
      "execution_count": null,
      "outputs": [
        {
          "output_type": "stream",
          "name": "stdout",
          "text": [
            "Stage 1: Training with frozen base...\n",
            "Epoch 1/15\n",
            "\u001b[1m451/451\u001b[0m \u001b[32m━━━━━━━━━━━━━━━━━━━━\u001b[0m\u001b[37m\u001b[0m \u001b[1m0s\u001b[0m 225ms/step - accuracy: 0.3731 - loss: 1.8327\n",
            "💾 Checkpoint saved: Epoch 1 - Train Acc: 0.5124, Val Acc: 0.7315\n",
            "\u001b[1m451/451\u001b[0m \u001b[32m━━━━━━━━━━━━━━━━━━━━\u001b[0m\u001b[37m\u001b[0m \u001b[1m245s\u001b[0m 417ms/step - accuracy: 0.3734 - loss: 1.8318 - val_accuracy: 0.7315 - val_loss: 0.7673 - learning_rate: 5.0000e-04\n",
            "Epoch 2/15\n",
            "\u001b[1m450/451\u001b[0m \u001b[32m━━━━━━━━━━━━━━━━━━━\u001b[0m\u001b[37m━\u001b[0m \u001b[1m0s\u001b[0m 146ms/step - accuracy: 0.6894 - loss: 0.9217\n",
            "💾 Checkpoint saved: Epoch 2 - Train Acc: 0.7093, Val Acc: 0.8148\n",
            "\u001b[1m451/451\u001b[0m \u001b[32m━━━━━━━━━━━━━━━━━━━━\u001b[0m\u001b[37m\u001b[0m \u001b[1m110s\u001b[0m 182ms/step - accuracy: 0.6895 - loss: 0.9215 - val_accuracy: 0.8148 - val_loss: 0.5364 - learning_rate: 5.0000e-04\n",
            "Epoch 3/15\n",
            "\u001b[1m450/451\u001b[0m \u001b[32m━━━━━━━━━━━━━━━━━━━\u001b[0m\u001b[37m━\u001b[0m \u001b[1m0s\u001b[0m 145ms/step - accuracy: 0.7598 - loss: 0.7145\n",
            "💾 Checkpoint saved: Epoch 3 - Train Acc: 0.7667, Val Acc: 0.8365\n",
            "\u001b[1m451/451\u001b[0m \u001b[32m━━━━━━━━━━━━━━━━━━━━\u001b[0m\u001b[37m\u001b[0m \u001b[1m148s\u001b[0m 196ms/step - accuracy: 0.7599 - loss: 0.7144 - val_accuracy: 0.8365 - val_loss: 0.4669 - learning_rate: 5.0000e-04\n",
            "Epoch 4/15\n",
            "\u001b[1m450/451\u001b[0m \u001b[32m━━━━━━━━━━━━━━━━━━━\u001b[0m\u001b[37m━\u001b[0m \u001b[1m0s\u001b[0m 145ms/step - accuracy: 0.7814 - loss: 0.6415\n",
            "💾 Checkpoint saved: Epoch 4 - Train Acc: 0.7852, Val Acc: 0.8651\n",
            "\u001b[1m451/451\u001b[0m \u001b[32m━━━━━━━━━━━━━━━━━━━━\u001b[0m\u001b[37m\u001b[0m \u001b[1m141s\u001b[0m 194ms/step - accuracy: 0.7814 - loss: 0.6415 - val_accuracy: 0.8651 - val_loss: 0.3894 - learning_rate: 5.0000e-04\n",
            "Epoch 5/15\n",
            "\u001b[1m450/451\u001b[0m \u001b[32m━━━━━━━━━━━━━━━━━━━\u001b[0m\u001b[37m━\u001b[0m \u001b[1m0s\u001b[0m 145ms/step - accuracy: 0.8058 - loss: 0.5777\n",
            "💾 Checkpoint saved: Epoch 5 - Train Acc: 0.8078, Val Acc: 0.8648\n",
            "\u001b[1m451/451\u001b[0m \u001b[32m━━━━━━━━━━━━━━━━━━━━\u001b[0m\u001b[37m\u001b[0m \u001b[1m88s\u001b[0m 194ms/step - accuracy: 0.8058 - loss: 0.5777 - val_accuracy: 0.8648 - val_loss: 0.3754 - learning_rate: 5.0000e-04\n",
            "Epoch 6/15\n",
            "\u001b[1m450/451\u001b[0m \u001b[32m━━━━━━━━━━━━━━━━━━━\u001b[0m\u001b[37m━\u001b[0m \u001b[1m0s\u001b[0m 144ms/step - accuracy: 0.8153 - loss: 0.5400\n",
            "💾 Checkpoint saved: Epoch 6 - Train Acc: 0.8157, Val Acc: 0.8695\n",
            "\u001b[1m451/451\u001b[0m \u001b[32m━━━━━━━━━━━━━━━━━━━━\u001b[0m\u001b[37m\u001b[0m \u001b[1m136s\u001b[0m 181ms/step - accuracy: 0.8153 - loss: 0.5400 - val_accuracy: 0.8695 - val_loss: 0.3630 - learning_rate: 5.0000e-04\n",
            "Epoch 7/15\n",
            "\u001b[1m450/451\u001b[0m \u001b[32m━━━━━━━━━━━━━━━━━━━\u001b[0m\u001b[37m━\u001b[0m \u001b[1m0s\u001b[0m 144ms/step - accuracy: 0.8216 - loss: 0.5237\n",
            "💾 Checkpoint saved: Epoch 7 - Train Acc: 0.8269, Val Acc: 0.8601\n",
            "\u001b[1m451/451\u001b[0m \u001b[32m━━━━━━━━━━━━━━━━━━━━\u001b[0m\u001b[37m\u001b[0m \u001b[1m82s\u001b[0m 180ms/step - accuracy: 0.8216 - loss: 0.5237 - val_accuracy: 0.8601 - val_loss: 0.3833 - learning_rate: 5.0000e-04\n",
            "Epoch 8/15\n",
            "\u001b[1m450/451\u001b[0m \u001b[32m━━━━━━━━━━━━━━━━━━━\u001b[0m\u001b[37m━\u001b[0m \u001b[1m0s\u001b[0m 144ms/step - accuracy: 0.8293 - loss: 0.4946\n",
            "💾 Checkpoint saved: Epoch 8 - Train Acc: 0.8325, Val Acc: 0.8770\n",
            "\u001b[1m451/451\u001b[0m \u001b[32m━━━━━━━━━━━━━━━━━━━━\u001b[0m\u001b[37m\u001b[0m \u001b[1m88s\u001b[0m 194ms/step - accuracy: 0.8293 - loss: 0.4946 - val_accuracy: 0.8770 - val_loss: 0.3404 - learning_rate: 5.0000e-04\n",
            "Epoch 9/15\n",
            "\u001b[1m450/451\u001b[0m \u001b[32m━━━━━━━━━━━━━━━━━━━\u001b[0m\u001b[37m━\u001b[0m \u001b[1m0s\u001b[0m 145ms/step - accuracy: 0.8380 - loss: 0.4670\n",
            "💾 Checkpoint saved: Epoch 9 - Train Acc: 0.8411, Val Acc: 0.8834\n",
            "\u001b[1m451/451\u001b[0m \u001b[32m━━━━━━━━━━━━━━━━━━━━\u001b[0m\u001b[37m\u001b[0m \u001b[1m87s\u001b[0m 194ms/step - accuracy: 0.8380 - loss: 0.4670 - val_accuracy: 0.8834 - val_loss: 0.3323 - learning_rate: 5.0000e-04\n",
            "Epoch 10/15\n",
            "\u001b[1m451/451\u001b[0m \u001b[32m━━━━━━━━━━━━━━━━━━━━\u001b[0m\u001b[37m\u001b[0m \u001b[1m0s\u001b[0m 145ms/step - accuracy: 0.8501 - loss: 0.4572\n",
            "💾 Checkpoint saved: Epoch 10 - Train Acc: 0.8483, Val Acc: 0.8848\n",
            "\u001b[1m451/451\u001b[0m \u001b[32m━━━━━━━━━━━━━━━━━━━━\u001b[0m\u001b[37m\u001b[0m \u001b[1m137s\u001b[0m 183ms/step - accuracy: 0.8501 - loss: 0.4572 - val_accuracy: 0.8848 - val_loss: 0.3208 - learning_rate: 5.0000e-04\n",
            "Epoch 11/15\n",
            "\u001b[1m450/451\u001b[0m \u001b[32m━━━━━━━━━━━━━━━━━━━\u001b[0m\u001b[37m━\u001b[0m \u001b[1m0s\u001b[0m 145ms/step - accuracy: 0.8526 - loss: 0.4330\n",
            "💾 Checkpoint saved: Epoch 11 - Train Acc: 0.8568, Val Acc: 0.8967\n",
            "\u001b[1m451/451\u001b[0m \u001b[32m━━━━━━━━━━━━━━━━━━━━\u001b[0m\u001b[37m\u001b[0m \u001b[1m88s\u001b[0m 195ms/step - accuracy: 0.8526 - loss: 0.4329 - val_accuracy: 0.8967 - val_loss: 0.2908 - learning_rate: 5.0000e-04\n",
            "Epoch 12/15\n",
            "\u001b[1m450/451\u001b[0m \u001b[32m━━━━━━━━━━━━━━━━━━━\u001b[0m\u001b[37m━\u001b[0m \u001b[1m0s\u001b[0m 144ms/step - accuracy: 0.8506 - loss: 0.4367\n",
            "💾 Checkpoint saved: Epoch 12 - Train Acc: 0.8554, Val Acc: 0.8926\n",
            "\u001b[1m451/451\u001b[0m \u001b[32m━━━━━━━━━━━━━━━━━━━━\u001b[0m\u001b[37m\u001b[0m \u001b[1m82s\u001b[0m 183ms/step - accuracy: 0.8506 - loss: 0.4366 - val_accuracy: 0.8926 - val_loss: 0.2923 - learning_rate: 5.0000e-04\n",
            "Epoch 13/15\n",
            "\u001b[1m450/451\u001b[0m \u001b[32m━━━━━━━━━━━━━━━━━━━\u001b[0m\u001b[37m━\u001b[0m \u001b[1m0s\u001b[0m 146ms/step - accuracy: 0.8583 - loss: 0.4143\n",
            "💾 Checkpoint saved: Epoch 13 - Train Acc: 0.8617, Val Acc: 0.8945\n",
            "\u001b[1m451/451\u001b[0m \u001b[32m━━━━━━━━━━━━━━━━━━━━\u001b[0m\u001b[37m\u001b[0m \u001b[1m142s\u001b[0m 182ms/step - accuracy: 0.8583 - loss: 0.4143 - val_accuracy: 0.8945 - val_loss: 0.2869 - learning_rate: 5.0000e-04\n",
            "Epoch 14/15\n",
            "\u001b[1m450/451\u001b[0m \u001b[32m━━━━━━━━━━━━━━━━━━━\u001b[0m\u001b[37m━\u001b[0m \u001b[1m0s\u001b[0m 145ms/step - accuracy: 0.8559 - loss: 0.4064\n",
            "💾 Checkpoint saved: Epoch 14 - Train Acc: 0.8599, Val Acc: 0.8903\n",
            "\u001b[1m451/451\u001b[0m \u001b[32m━━━━━━━━━━━━━━━━━━━━\u001b[0m\u001b[37m\u001b[0m \u001b[1m141s\u001b[0m 181ms/step - accuracy: 0.8559 - loss: 0.4064 - val_accuracy: 0.8903 - val_loss: 0.3018 - learning_rate: 5.0000e-04\n",
            "Epoch 15/15\n",
            "\u001b[1m450/451\u001b[0m \u001b[32m━━━━━━━━━━━━━━━━━━━\u001b[0m\u001b[37m━\u001b[0m \u001b[1m0s\u001b[0m 144ms/step - accuracy: 0.8653 - loss: 0.3976\n",
            "💾 Checkpoint saved: Epoch 15 - Train Acc: 0.8675, Val Acc: 0.9026\n",
            "\u001b[1m451/451\u001b[0m \u001b[32m━━━━━━━━━━━━━━━━━━━━\u001b[0m\u001b[37m\u001b[0m \u001b[1m81s\u001b[0m 181ms/step - accuracy: 0.8653 - loss: 0.3975 - val_accuracy: 0.9026 - val_loss: 0.2740 - learning_rate: 5.0000e-04\n",
            "Restoring model weights from the end of the best epoch: 15.\n"
          ]
        }
      ]
    },
    {
      "cell_type": "code",
      "source": [
        "base_model.trainable = True\n",
        "for layer in base_model.layers[:100]:\n",
        "    layer.trainable = False\n",
        "\n",
        "model.compile(\n",
        "    optimizer=tf.keras.optimizers.AdamW(\n",
        "        learning_rate=1e-5,  # Much lower for fine-tuning\n",
        "        weight_decay=1e-4\n",
        "    ),\n",
        "    loss=tf.keras.losses.SparseCategoricalCrossentropy(from_logits=False),\n",
        "    metrics=[\"accuracy\"]\n",
        ")"
      ],
      "metadata": {
        "id": "kg0l6xjRRUR-"
      },
      "execution_count": null,
      "outputs": []
    },
    {
      "cell_type": "code",
      "source": [
        "history = model.fit(\n",
        "    train_ds,\n",
        "    validation_data=test_ds,\n",
        "    initial_epoch=15,\n",
        "    epochs=35,\n",
        "    callbacks=callbacks\n",
        ")"
      ],
      "metadata": {
        "colab": {
          "base_uri": "https://localhost:8080/"
        },
        "id": "Atl6MjHyRcKQ",
        "outputId": "3f6677ee-405d-4971-c8c5-5270059aeabe"
      },
      "execution_count": null,
      "outputs": [
        {
          "output_type": "stream",
          "name": "stdout",
          "text": [
            "Epoch 16/35\n",
            "\u001b[1m451/451\u001b[0m \u001b[32m━━━━━━━━━━━━━━━━━━━━\u001b[0m\u001b[37m\u001b[0m \u001b[1m0s\u001b[0m 384ms/step - accuracy: 0.8723 - loss: 0.3682\n",
            "💾 Checkpoint saved: Epoch 16 - Train Acc: 0.8792, Val Acc: 0.9159\n",
            "\u001b[1m451/451\u001b[0m \u001b[32m━━━━━━━━━━━━━━━━━━━━\u001b[0m\u001b[37m\u001b[0m \u001b[1m308s\u001b[0m 559ms/step - accuracy: 0.8724 - loss: 0.3682 - val_accuracy: 0.9159 - val_loss: 0.2379 - learning_rate: 1.0000e-05\n",
            "Epoch 17/35\n",
            "\u001b[1m451/451\u001b[0m \u001b[32m━━━━━━━━━━━━━━━━━━━━\u001b[0m\u001b[37m\u001b[0m \u001b[1m0s\u001b[0m 297ms/step - accuracy: 0.8854 - loss: 0.3354\n",
            "💾 Checkpoint saved: Epoch 17 - Train Acc: 0.8903, Val Acc: 0.9267\n",
            "\u001b[1m451/451\u001b[0m \u001b[32m━━━━━━━━━━━━━━━━━━━━\u001b[0m\u001b[37m\u001b[0m \u001b[1m190s\u001b[0m 353ms/step - accuracy: 0.8855 - loss: 0.3354 - val_accuracy: 0.9267 - val_loss: 0.2089 - learning_rate: 1.0000e-05\n",
            "Epoch 18/35\n",
            "\u001b[1m451/451\u001b[0m \u001b[32m━━━━━━━━━━━━━━━━━━━━\u001b[0m\u001b[37m\u001b[0m \u001b[1m0s\u001b[0m 297ms/step - accuracy: 0.9005 - loss: 0.2996\n",
            "💾 Checkpoint saved: Epoch 18 - Train Acc: 0.8975, Val Acc: 0.9300\n",
            "\u001b[1m451/451\u001b[0m \u001b[32m━━━━━━━━━━━━━━━━━━━━\u001b[0m\u001b[37m\u001b[0m \u001b[1m162s\u001b[0m 359ms/step - accuracy: 0.9005 - loss: 0.2996 - val_accuracy: 0.9300 - val_loss: 0.2023 - learning_rate: 1.0000e-05\n",
            "Epoch 19/35\n",
            "\u001b[1m451/451\u001b[0m \u001b[32m━━━━━━━━━━━━━━━━━━━━\u001b[0m\u001b[37m\u001b[0m \u001b[1m0s\u001b[0m 297ms/step - accuracy: 0.9102 - loss: 0.2710\n",
            "💾 Checkpoint saved: Epoch 19 - Train Acc: 0.9113, Val Acc: 0.9311\n",
            "\u001b[1m451/451\u001b[0m \u001b[32m━━━━━━━━━━━━━━━━━━━━\u001b[0m\u001b[37m\u001b[0m \u001b[1m199s\u001b[0m 353ms/step - accuracy: 0.9102 - loss: 0.2709 - val_accuracy: 0.9311 - val_loss: 0.2029 - learning_rate: 1.0000e-05\n",
            "Epoch 20/35\n",
            "\u001b[1m451/451\u001b[0m \u001b[32m━━━━━━━━━━━━━━━━━━━━\u001b[0m\u001b[37m\u001b[0m \u001b[1m0s\u001b[0m 298ms/step - accuracy: 0.9083 - loss: 0.2685\n",
            "💾 Checkpoint saved: Epoch 20 - Train Acc: 0.9100, Val Acc: 0.9284\n",
            "\u001b[1m451/451\u001b[0m \u001b[32m━━━━━━━━━━━━━━━━━━━━\u001b[0m\u001b[37m\u001b[0m \u001b[1m204s\u001b[0m 357ms/step - accuracy: 0.9083 - loss: 0.2685 - val_accuracy: 0.9284 - val_loss: 0.2032 - learning_rate: 1.0000e-05\n",
            "Epoch 21/35\n",
            "\u001b[1m451/451\u001b[0m \u001b[32m━━━━━━━━━━━━━━━━━━━━\u001b[0m\u001b[37m\u001b[0m \u001b[1m0s\u001b[0m 298ms/step - accuracy: 0.9112 - loss: 0.2639\n",
            "💾 Checkpoint saved: Epoch 21 - Train Acc: 0.9107, Val Acc: 0.9370\n",
            "\u001b[1m451/451\u001b[0m \u001b[32m━━━━━━━━━━━━━━━━━━━━\u001b[0m\u001b[37m\u001b[0m \u001b[1m204s\u001b[0m 361ms/step - accuracy: 0.9112 - loss: 0.2639 - val_accuracy: 0.9370 - val_loss: 0.1846 - learning_rate: 1.0000e-05\n",
            "Epoch 22/35\n",
            "\u001b[1m451/451\u001b[0m \u001b[32m━━━━━━━━━━━━━━━━━━━━\u001b[0m\u001b[37m\u001b[0m \u001b[1m0s\u001b[0m 297ms/step - accuracy: 0.9119 - loss: 0.2538\n",
            "💾 Checkpoint saved: Epoch 22 - Train Acc: 0.9157, Val Acc: 0.9378\n",
            "\u001b[1m451/451\u001b[0m \u001b[32m━━━━━━━━━━━━━━━━━━━━\u001b[0m\u001b[37m\u001b[0m \u001b[1m194s\u001b[0m 345ms/step - accuracy: 0.9119 - loss: 0.2538 - val_accuracy: 0.9378 - val_loss: 0.1832 - learning_rate: 1.0000e-05\n",
            "Epoch 23/35\n",
            "\u001b[1m451/451\u001b[0m \u001b[32m━━━━━━━━━━━━━━━━━━━━\u001b[0m\u001b[37m\u001b[0m \u001b[1m0s\u001b[0m 297ms/step - accuracy: 0.9236 - loss: 0.2308\n",
            "💾 Checkpoint saved: Epoch 23 - Train Acc: 0.9218, Val Acc: 0.9395\n",
            "\u001b[1m451/451\u001b[0m \u001b[32m━━━━━━━━━━━━━━━━━━━━\u001b[0m\u001b[37m\u001b[0m \u001b[1m200s\u001b[0m 341ms/step - accuracy: 0.9236 - loss: 0.2308 - val_accuracy: 0.9395 - val_loss: 0.1786 - learning_rate: 1.0000e-05\n",
            "Epoch 24/35\n",
            "\u001b[1m451/451\u001b[0m \u001b[32m━━━━━━━━━━━━━━━━━━━━\u001b[0m\u001b[37m\u001b[0m \u001b[1m0s\u001b[0m 297ms/step - accuracy: 0.9223 - loss: 0.2210\n",
            "💾 Checkpoint saved: Epoch 24 - Train Acc: 0.9263, Val Acc: 0.9439\n",
            "\u001b[1m451/451\u001b[0m \u001b[32m━━━━━━━━━━━━━━━━━━━━\u001b[0m\u001b[37m\u001b[0m \u001b[1m205s\u001b[0m 346ms/step - accuracy: 0.9223 - loss: 0.2210 - val_accuracy: 0.9439 - val_loss: 0.1695 - learning_rate: 1.0000e-05\n",
            "Epoch 25/35\n",
            "\u001b[1m451/451\u001b[0m \u001b[32m━━━━━━━━━━━━━━━━━━━━\u001b[0m\u001b[37m\u001b[0m \u001b[1m0s\u001b[0m 297ms/step - accuracy: 0.9247 - loss: 0.2158\n",
            "💾 Checkpoint saved: Epoch 25 - Train Acc: 0.9281, Val Acc: 0.9470\n",
            "\u001b[1m451/451\u001b[0m \u001b[32m━━━━━━━━━━━━━━━━━━━━\u001b[0m\u001b[37m\u001b[0m \u001b[1m208s\u001b[0m 360ms/step - accuracy: 0.9247 - loss: 0.2158 - val_accuracy: 0.9470 - val_loss: 0.1628 - learning_rate: 1.0000e-05\n",
            "Epoch 26/35\n",
            "\u001b[1m451/451\u001b[0m \u001b[32m━━━━━━━━━━━━━━━━━━━━\u001b[0m\u001b[37m\u001b[0m \u001b[1m0s\u001b[0m 297ms/step - accuracy: 0.9277 - loss: 0.2152\n",
            "💾 Checkpoint saved: Epoch 26 - Train Acc: 0.9286, Val Acc: 0.9450\n",
            "\u001b[1m451/451\u001b[0m \u001b[32m━━━━━━━━━━━━━━━━━━━━\u001b[0m\u001b[37m\u001b[0m \u001b[1m198s\u001b[0m 352ms/step - accuracy: 0.9277 - loss: 0.2152 - val_accuracy: 0.9450 - val_loss: 0.1639 - learning_rate: 1.0000e-05\n",
            "Epoch 27/35\n",
            "\u001b[1m451/451\u001b[0m \u001b[32m━━━━━━━━━━━━━━━━━━━━\u001b[0m\u001b[37m\u001b[0m \u001b[1m0s\u001b[0m 297ms/step - accuracy: 0.9332 - loss: 0.1935\n",
            "💾 Checkpoint saved: Epoch 27 - Train Acc: 0.9337, Val Acc: 0.9486\n",
            "\u001b[1m451/451\u001b[0m \u001b[32m━━━━━━━━━━━━━━━━━━━━\u001b[0m\u001b[37m\u001b[0m \u001b[1m206s\u001b[0m 360ms/step - accuracy: 0.9332 - loss: 0.1935 - val_accuracy: 0.9486 - val_loss: 0.1573 - learning_rate: 1.0000e-05\n",
            "Epoch 28/35\n",
            "\u001b[1m451/451\u001b[0m \u001b[32m━━━━━━━━━━━━━━━━━━━━\u001b[0m\u001b[37m\u001b[0m \u001b[1m0s\u001b[0m 297ms/step - accuracy: 0.9345 - loss: 0.1908\n",
            "💾 Checkpoint saved: Epoch 28 - Train Acc: 0.9352, Val Acc: 0.9506\n",
            "\u001b[1m451/451\u001b[0m \u001b[32m━━━━━━━━━━━━━━━━━━━━\u001b[0m\u001b[37m\u001b[0m \u001b[1m205s\u001b[0m 367ms/step - accuracy: 0.9345 - loss: 0.1909 - val_accuracy: 0.9506 - val_loss: 0.1530 - learning_rate: 1.0000e-05\n",
            "Epoch 29/35\n",
            "\u001b[1m451/451\u001b[0m \u001b[32m━━━━━━━━━━━━━━━━━━━━\u001b[0m\u001b[37m\u001b[0m \u001b[1m0s\u001b[0m 298ms/step - accuracy: 0.9318 - loss: 0.2047\n",
            "💾 Checkpoint saved: Epoch 29 - Train Acc: 0.9361, Val Acc: 0.9511\n",
            "\u001b[1m451/451\u001b[0m \u001b[32m━━━━━━━━━━━━━━━━━━━━\u001b[0m\u001b[37m\u001b[0m \u001b[1m157s\u001b[0m 349ms/step - accuracy: 0.9318 - loss: 0.2047 - val_accuracy: 0.9511 - val_loss: 0.1508 - learning_rate: 1.0000e-05\n",
            "Epoch 30/35\n",
            "\u001b[1m451/451\u001b[0m \u001b[32m━━━━━━━━━━━━━━━━━━━━\u001b[0m\u001b[37m\u001b[0m \u001b[1m0s\u001b[0m 297ms/step - accuracy: 0.9416 - loss: 0.1780\n",
            "💾 Checkpoint saved: Epoch 30 - Train Acc: 0.9390, Val Acc: 0.9528\n",
            "\u001b[1m451/451\u001b[0m \u001b[32m━━━━━━━━━━━━━━━━━━━━\u001b[0m\u001b[37m\u001b[0m \u001b[1m205s\u001b[0m 356ms/step - accuracy: 0.9416 - loss: 0.1780 - val_accuracy: 0.9528 - val_loss: 0.1441 - learning_rate: 1.0000e-05\n",
            "Epoch 31/35\n",
            "\u001b[1m451/451\u001b[0m \u001b[32m━━━━━━━━━━━━━━━━━━━━\u001b[0m\u001b[37m\u001b[0m \u001b[1m0s\u001b[0m 297ms/step - accuracy: 0.9440 - loss: 0.1715\n",
            "💾 Checkpoint saved: Epoch 31 - Train Acc: 0.9423, Val Acc: 0.9536\n",
            "\u001b[1m451/451\u001b[0m \u001b[32m━━━━━━━━━━━━━━━━━━━━\u001b[0m\u001b[37m\u001b[0m \u001b[1m161s\u001b[0m 358ms/step - accuracy: 0.9440 - loss: 0.1715 - val_accuracy: 0.9536 - val_loss: 0.1433 - learning_rate: 1.0000e-05\n",
            "Epoch 32/35\n",
            "\u001b[1m451/451\u001b[0m \u001b[32m━━━━━━━━━━━━━━━━━━━━\u001b[0m\u001b[37m\u001b[0m \u001b[1m0s\u001b[0m 297ms/step - accuracy: 0.9415 - loss: 0.1693\n",
            "💾 Checkpoint saved: Epoch 32 - Train Acc: 0.9415, Val Acc: 0.9536\n",
            "\u001b[1m451/451\u001b[0m \u001b[32m━━━━━━━━━━━━━━━━━━━━\u001b[0m\u001b[37m\u001b[0m \u001b[1m156s\u001b[0m 346ms/step - accuracy: 0.9415 - loss: 0.1693 - val_accuracy: 0.9536 - val_loss: 0.1431 - learning_rate: 1.0000e-05\n",
            "Epoch 33/35\n",
            "\u001b[1m451/451\u001b[0m \u001b[32m━━━━━━━━━━━━━━━━━━━━\u001b[0m\u001b[37m\u001b[0m \u001b[1m0s\u001b[0m 297ms/step - accuracy: 0.9414 - loss: 0.1707\n",
            "💾 Checkpoint saved: Epoch 33 - Train Acc: 0.9416, Val Acc: 0.9570\n",
            "\u001b[1m451/451\u001b[0m \u001b[32m━━━━━━━━━━━━━━━━━━━━\u001b[0m\u001b[37m\u001b[0m \u001b[1m162s\u001b[0m 359ms/step - accuracy: 0.9414 - loss: 0.1707 - val_accuracy: 0.9570 - val_loss: 0.1349 - learning_rate: 1.0000e-05\n",
            "Epoch 34/35\n",
            "\u001b[1m451/451\u001b[0m \u001b[32m━━━━━━━━━━━━━━━━━━━━\u001b[0m\u001b[37m\u001b[0m \u001b[1m0s\u001b[0m 298ms/step - accuracy: 0.9453 - loss: 0.1557\n",
            "💾 Checkpoint saved: Epoch 34 - Train Acc: 0.9458, Val Acc: 0.9564\n",
            "\u001b[1m451/451\u001b[0m \u001b[32m━━━━━━━━━━━━━━━━━━━━\u001b[0m\u001b[37m\u001b[0m \u001b[1m156s\u001b[0m 346ms/step - accuracy: 0.9453 - loss: 0.1557 - val_accuracy: 0.9564 - val_loss: 0.1327 - learning_rate: 1.0000e-05\n",
            "Epoch 35/35\n",
            "\u001b[1m451/451\u001b[0m \u001b[32m━━━━━━━━━━━━━━━━━━━━\u001b[0m\u001b[37m\u001b[0m \u001b[1m0s\u001b[0m 297ms/step - accuracy: 0.9471 - loss: 0.1591\n",
            "💾 Checkpoint saved: Epoch 35 - Train Acc: 0.9485, Val Acc: 0.9578\n",
            "\u001b[1m451/451\u001b[0m \u001b[32m━━━━━━━━━━━━━━━━━━━━\u001b[0m\u001b[37m\u001b[0m \u001b[1m205s\u001b[0m 353ms/step - accuracy: 0.9471 - loss: 0.1591 - val_accuracy: 0.9578 - val_loss: 0.1283 - learning_rate: 1.0000e-05\n",
            "Restoring model weights from the end of the best epoch: 35.\n"
          ]
        }
      ]
    },
    {
      "cell_type": "code",
      "source": [
        "history = model.fit(\n",
        "    train_ds,\n",
        "    validation_data=test_ds,\n",
        "    initial_epoch=35,\n",
        "    epochs=50,\n",
        "    callbacks=callbacks\n",
        ")"
      ],
      "metadata": {
        "id": "5Tc4MabX1n0W"
      },
      "execution_count": null,
      "outputs": []
    },
    {
      "cell_type": "code",
      "source": [
        "import tensorflow as tf\n",
        "import pickle\n",
        "import matplotlib.pyplot as plt\n",
        "import os\n",
        "\n",
        "history_path = \"/content/drive/My Drive/convnext_224_checkpoints/training_history.pkl\"\n",
        "\n",
        "\n",
        "# ---- Load history ----\n",
        "with open(history_path, \"rb\") as f:\n",
        "    history = pickle.load(f)\n",
        "\n",
        "# ---- Plot training vs validation accuracy and loss ----\n",
        "acc = history['accuracy']\n",
        "val_acc = history['val_accuracy']\n",
        "loss = history['loss']\n",
        "val_loss = history['val_loss']\n",
        "epochs = range(1, len(acc) + 1)\n",
        "\n",
        "plt.figure(figsize=(14, 5))\n",
        "\n",
        "# Accuracy\n",
        "plt.subplot(1, 2, 1)\n",
        "plt.plot(epochs, acc, \"b-\", label=\"Training Accuracy\")\n",
        "plt.plot(epochs, val_acc, \"r-\", label=\"Validation Accuracy\")\n",
        "plt.title(\"Training & Validation Accuracy\")\n",
        "plt.xlabel(\"Epochs\")\n",
        "plt.ylabel(\"Accuracy\")\n",
        "plt.legend()\n",
        "\n",
        "# Loss\n",
        "plt.subplot(1, 2, 2)\n",
        "plt.plot(epochs, loss, \"b-\", label=\"Training Loss\")\n",
        "plt.plot(epochs, val_loss, \"r-\", label=\"Validation Loss\")\n",
        "plt.title(\"Training & Validation Loss\")\n",
        "plt.xlabel(\"Epochs\")\n",
        "plt.ylabel(\"Loss\")\n",
        "plt.legend()\n",
        "\n",
        "plt.show()"
      ],
      "metadata": {
        "colab": {
          "base_uri": "https://localhost:8080/",
          "height": 487
        },
        "id": "XAr70uGAnPjL",
        "outputId": "7b323bb8-6c54-49fc-916a-7424e4610899"
      },
      "execution_count": null,
      "outputs": [
        {
          "output_type": "display_data",
          "data": {
            "text/plain": [
              "<Figure size 1400x500 with 2 Axes>"
            ],
            "image/png": "[encoded data removed]"
          },
          "metadata": {}
        }
      ]
    }
  ],
  "metadata": {
    "accelerator": "GPU",
    "colab": {
      "gpuType": "T4",
      "provenance": []
    },
    "kernelspec": {
      "display_name": "Python 3",
      "name": "python3"
    },
    "language_info": {
      "name": "python"
    }
  },
  "nbformat": 4,
  "nbformat_minor": 0
}