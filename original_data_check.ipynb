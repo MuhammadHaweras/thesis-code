{
 "cells": [
  {
   "cell_type": "markdown",
   "metadata": {},
   "source": [
    "### No. of Images in each class of each Dataset"
   ]
  },
  {
   "cell_type": "code",
   "execution_count": 1,
   "metadata": {},
   "outputs": [
    {
     "data": {
      "application/vnd.microsoft.datawrangler.viewer.v0+json": {
       "columns": [
        {
         "name": "index",
         "rawType": "int64",
         "type": "integer"
        },
        {
         "name": "Dataset",
         "rawType": "object",
         "type": "string"
        },
        {
         "name": "Class",
         "rawType": "object",
         "type": "string"
        },
        {
         "name": "Image_Count",
         "rawType": "int64",
         "type": "integer"
        }
       ],
       "ref": "83a6a7bf-2fa9-46cb-9c25-1efa26442b39",
       "rows": [
        [
         "0",
         "PlantDoc-Combined",
         "Tomato Early blight leaf",
         "83"
        ],
        [
         "1",
         "PlantDoc-Combined",
         "Tomato Septoria leaf spot",
         "148"
        ],
        [
         "2",
         "PlantDoc-Combined",
         "Tomato leaf",
         "62"
        ],
        [
         "3",
         "PlantDoc-Combined",
         "Tomato leaf bacterial spot",
         "107"
        ],
        [
         "4",
         "PlantDoc-Combined",
         "Tomato leaf late blight",
         "111"
        ],
        [
         "5",
         "PlantDoc-Combined",
         "Tomato leaf mosaic virus",
         "54"
        ],
        [
         "6",
         "PlantDoc-Combined",
         "Tomato leaf yellow virus",
         "75"
        ],
        [
         "7",
         "PlantDoc-Combined",
         "Tomato mold leaf",
         "91"
        ],
        [
         "8",
         "PlantVillage",
         "Tomato_Bacterial_spot",
         "2127"
        ],
        [
         "9",
         "PlantVillage",
         "Tomato_Early_blight",
         "1000"
        ],
        [
         "10",
         "PlantVillage",
         "Tomato_Late_blight",
         "1909"
        ],
        [
         "11",
         "PlantVillage",
         "Tomato_Leaf_Mold",
         "952"
        ],
        [
         "12",
         "PlantVillage",
         "Tomato_Septoria_leaf_spot",
         "1771"
        ],
        [
         "13",
         "PlantVillage",
         "Tomato_Spider_mites_Two_spotted_spider_mite",
         "1676"
        ],
        [
         "14",
         "PlantVillage",
         "Tomato__Target_Spot",
         "1404"
        ],
        [
         "15",
         "PlantVillage",
         "Tomato__Tomato_YellowLeaf__Curl_Virus",
         "3208"
        ],
        [
         "16",
         "PlantVillage",
         "Tomato__Tomato_mosaic_virus",
         "373"
        ],
        [
         "17",
         "PlantVillage",
         "Tomato_healthy",
         "1591"
        ],
        [
         "18",
         "taiwan_dataset",
         "Bacterial spot",
         "110"
        ],
        [
         "19",
         "taiwan_dataset",
         "Black mold",
         "67"
        ],
        [
         "20",
         "taiwan_dataset",
         "Gray spot",
         "84"
        ],
        [
         "21",
         "taiwan_dataset",
         "Late blight",
         "98"
        ],
        [
         "22",
         "taiwan_dataset",
         "health",
         "106"
        ],
        [
         "23",
         "taiwan_dataset",
         "powdery mildew",
         "157"
        ]
       ],
       "shape": {
        "columns": 3,
        "rows": 24
       }
      },
      "text/html": [
       "<div>\n",
       "<style scoped>\n",
       "    .dataframe tbody tr th:only-of-type {\n",
       "        vertical-align: middle;\n",
       "    }\n",
       "\n",
       "    .dataframe tbody tr th {\n",
       "        vertical-align: top;\n",
       "    }\n",
       "\n",
       "    .dataframe thead th {\n",
       "        text-align: right;\n",
       "    }\n",
       "</style>\n",
       "<table border=\"1\" class=\"dataframe\">\n",
       "  <thead>\n",
       "    <tr style=\"text-align: right;\">\n",
       "      <th></th>\n",
       "      <th>Dataset</th>\n",
       "      <th>Class</th>\n",
       "      <th>Image_Count</th>\n",
       "    </tr>\n",
       "  </thead>\n",
       "  <tbody>\n",
       "    <tr>\n",
       "      <th>0</th>\n",
       "      <td>PlantDoc-Combined</td>\n",
       "      <td>Tomato Early blight leaf</td>\n",
       "      <td>83</td>\n",
       "    </tr>\n",
       "    <tr>\n",
       "      <th>1</th>\n",
       "      <td>PlantDoc-Combined</td>\n",
       "      <td>Tomato Septoria leaf spot</td>\n",
       "      <td>148</td>\n",
       "    </tr>\n",
       "    <tr>\n",
       "      <th>2</th>\n",
       "      <td>PlantDoc-Combined</td>\n",
       "      <td>Tomato leaf</td>\n",
       "      <td>62</td>\n",
       "    </tr>\n",
       "    <tr>\n",
       "      <th>3</th>\n",
       "      <td>PlantDoc-Combined</td>\n",
       "      <td>Tomato leaf bacterial spot</td>\n",
       "      <td>107</td>\n",
       "    </tr>\n",
       "    <tr>\n",
       "      <th>4</th>\n",
       "      <td>PlantDoc-Combined</td>\n",
       "      <td>Tomato leaf late blight</td>\n",
       "      <td>111</td>\n",
       "    </tr>\n",
       "    <tr>\n",
       "      <th>5</th>\n",
       "      <td>PlantDoc-Combined</td>\n",
       "      <td>Tomato leaf mosaic virus</td>\n",
       "      <td>54</td>\n",
       "    </tr>\n",
       "    <tr>\n",
       "      <th>6</th>\n",
       "      <td>PlantDoc-Combined</td>\n",
       "      <td>Tomato leaf yellow virus</td>\n",
       "      <td>75</td>\n",
       "    </tr>\n",
       "    <tr>\n",
       "      <th>7</th>\n",
       "      <td>PlantDoc-Combined</td>\n",
       "      <td>Tomato mold leaf</td>\n",
       "      <td>91</td>\n",
       "    </tr>\n",
       "    <tr>\n",
       "      <th>8</th>\n",
       "      <td>PlantVillage</td>\n",
       "      <td>Tomato_Bacterial_spot</td>\n",
       "      <td>2127</td>\n",
       "    </tr>\n",
       "    <tr>\n",
       "      <th>9</th>\n",
       "      <td>PlantVillage</td>\n",
       "      <td>Tomato_Early_blight</td>\n",
       "      <td>1000</td>\n",
       "    </tr>\n",
       "    <tr>\n",
       "      <th>10</th>\n",
       "      <td>PlantVillage</td>\n",
       "      <td>Tomato_Late_blight</td>\n",
       "      <td>1909</td>\n",
       "    </tr>\n",
       "    <tr>\n",
       "      <th>11</th>\n",
       "      <td>PlantVillage</td>\n",
       "      <td>Tomato_Leaf_Mold</td>\n",
       "      <td>952</td>\n",
       "    </tr>\n",
       "    <tr>\n",
       "      <th>12</th>\n",
       "      <td>PlantVillage</td>\n",
       "      <td>Tomato_Septoria_leaf_spot</td>\n",
       "      <td>1771</td>\n",
       "    </tr>\n",
       "    <tr>\n",
       "      <th>13</th>\n",
       "      <td>PlantVillage</td>\n",
       "      <td>Tomato_Spider_mites_Two_spotted_spider_mite</td>\n",
       "      <td>1676</td>\n",
       "    </tr>\n",
       "    <tr>\n",
       "      <th>14</th>\n",
       "      <td>PlantVillage</td>\n",
       "      <td>Tomato__Target_Spot</td>\n",
       "      <td>1404</td>\n",
       "    </tr>\n",
       "    <tr>\n",
       "      <th>15</th>\n",
       "      <td>PlantVillage</td>\n",
       "      <td>Tomato__Tomato_YellowLeaf__Curl_Virus</td>\n",
       "      <td>3208</td>\n",
       "    </tr>\n",
       "    <tr>\n",
       "      <th>16</th>\n",
       "      <td>PlantVillage</td>\n",
       "      <td>Tomato__Tomato_mosaic_virus</td>\n",
       "      <td>373</td>\n",
       "    </tr>\n",
       "    <tr>\n",
       "      <th>17</th>\n",
       "      <td>PlantVillage</td>\n",
       "      <td>Tomato_healthy</td>\n",
       "      <td>1591</td>\n",
       "    </tr>\n",
       "    <tr>\n",
       "      <th>18</th>\n",
       "      <td>taiwan_dataset</td>\n",
       "      <td>Bacterial spot</td>\n",
       "      <td>110</td>\n",
       "    </tr>\n",
       "    <tr>\n",
       "      <th>19</th>\n",
       "      <td>taiwan_dataset</td>\n",
       "      <td>Black mold</td>\n",
       "      <td>67</td>\n",
       "    </tr>\n",
       "    <tr>\n",
       "      <th>20</th>\n",
       "      <td>taiwan_dataset</td>\n",
       "      <td>Gray spot</td>\n",
       "      <td>84</td>\n",
       "    </tr>\n",
       "    <tr>\n",
       "      <th>21</th>\n",
       "      <td>taiwan_dataset</td>\n",
       "      <td>Late blight</td>\n",
       "      <td>98</td>\n",
       "    </tr>\n",
       "    <tr>\n",
       "      <th>22</th>\n",
       "      <td>taiwan_dataset</td>\n",
       "      <td>health</td>\n",
       "      <td>106</td>\n",
       "    </tr>\n",
       "    <tr>\n",
       "      <th>23</th>\n",
       "      <td>taiwan_dataset</td>\n",
       "      <td>powdery mildew</td>\n",
       "      <td>157</td>\n",
       "    </tr>\n",
       "  </tbody>\n",
       "</table>\n",
       "</div>"
      ],
      "text/plain": [
       "              Dataset                                        Class  \\\n",
       "0   PlantDoc-Combined                     Tomato Early blight leaf   \n",
       "1   PlantDoc-Combined                    Tomato Septoria leaf spot   \n",
       "2   PlantDoc-Combined                                  Tomato leaf   \n",
       "3   PlantDoc-Combined                   Tomato leaf bacterial spot   \n",
       "4   PlantDoc-Combined                      Tomato leaf late blight   \n",
       "5   PlantDoc-Combined                     Tomato leaf mosaic virus   \n",
       "6   PlantDoc-Combined                     Tomato leaf yellow virus   \n",
       "7   PlantDoc-Combined                             Tomato mold leaf   \n",
       "8        PlantVillage                        Tomato_Bacterial_spot   \n",
       "9        PlantVillage                          Tomato_Early_blight   \n",
       "10       PlantVillage                           Tomato_Late_blight   \n",
       "11       PlantVillage                             Tomato_Leaf_Mold   \n",
       "12       PlantVillage                    Tomato_Septoria_leaf_spot   \n",
       "13       PlantVillage  Tomato_Spider_mites_Two_spotted_spider_mite   \n",
       "14       PlantVillage                          Tomato__Target_Spot   \n",
       "15       PlantVillage        Tomato__Tomato_YellowLeaf__Curl_Virus   \n",
       "16       PlantVillage                  Tomato__Tomato_mosaic_virus   \n",
       "17       PlantVillage                               Tomato_healthy   \n",
       "18     taiwan_dataset                               Bacterial spot   \n",
       "19     taiwan_dataset                                   Black mold   \n",
       "20     taiwan_dataset                                    Gray spot   \n",
       "21     taiwan_dataset                                  Late blight   \n",
       "22     taiwan_dataset                                       health   \n",
       "23     taiwan_dataset                               powdery mildew   \n",
       "\n",
       "    Image_Count  \n",
       "0            83  \n",
       "1           148  \n",
       "2            62  \n",
       "3           107  \n",
       "4           111  \n",
       "5            54  \n",
       "6            75  \n",
       "7            91  \n",
       "8          2127  \n",
       "9          1000  \n",
       "10         1909  \n",
       "11          952  \n",
       "12         1771  \n",
       "13         1676  \n",
       "14         1404  \n",
       "15         3208  \n",
       "16          373  \n",
       "17         1591  \n",
       "18          110  \n",
       "19           67  \n",
       "20           84  \n",
       "21           98  \n",
       "22          106  \n",
       "23          157  "
      ]
     },
     "execution_count": 1,
     "metadata": {},
     "output_type": "execute_result"
    }
   ],
   "source": [
    "import os\n",
    "import pandas as pd\n",
    "\n",
    "# Path to your datasets (adjust as needed)\n",
    "dataset_dirs = [\n",
    "    \"PlantDoc-Combined\",\n",
    "    \"PlantVillage\",\n",
    "    \"taiwan_dataset\",\n",
    "]\n",
    "\n",
    "# Collect counts\n",
    "data = []\n",
    "for dataset in dataset_dirs:\n",
    "    for root, dirs, files in os.walk(dataset):\n",
    "        # Only count leaf class folders (ignore root)\n",
    "        if root == dataset:\n",
    "            continue\n",
    "        count = len([f for f in files if f.lower().endswith(('.jpg', '.jpeg', '.png'))])\n",
    "        if count > 0:\n",
    "            class_name = os.path.basename(root)\n",
    "            data.append([dataset, class_name, count])\n",
    "\n",
    "# Convert to DataFrame for nicer view\n",
    "df = pd.DataFrame(data, columns=[\"Dataset\", \"Class\", \"Image_Count\"])\n",
    "\n",
    "# Sort by dataset then class\n",
    "df = df.sort_values(by=[\"Dataset\", \"Class\"]).reset_index(drop=True)\n",
    "\n",
    "df\n"
   ]
  }
 ],
 "metadata": {
  "kernelspec": {
   "display_name": "ml_ai",
   "language": "python",
   "name": "python3"
  },
  "language_info": {
   "codemirror_mode": {
    "name": "ipython",
    "version": 3
   },
   "file_extension": ".py",
   "mimetype": "text/x-python",
   "name": "python",
   "nbconvert_exporter": "python",
   "pygments_lexer": "ipython3",
   "version": "3.12.9"
  }
 },
 "nbformat": 4,
 "nbformat_minor": 2
}
